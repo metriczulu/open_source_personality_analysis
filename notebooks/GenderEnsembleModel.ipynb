{
 "cells": [
  {
   "cell_type": "markdown",
   "metadata": {},
   "source": [
    "# Ensemble Model for Gender Using Traditional Methods\n",
    "\n",
    "As opposed with the first two notebooks, this notebook will focus just on making a decent model to predict gender.  There will not be any exploration in this one, it is solely moving forward with creating a decently predictive model--although, there was **a lot** of exploration that happened behind the scenes in a scrap notebook to get to this point.  \n",
    "\n",
    "I really enjoyed this particular dataset and target variable because it's been tough and difficult to get *anything* above 80% accuracy out of it.  I really felt like I was fighting for fractions of a percent and felt extremely proud when I'd manage to pull another percent out of it.  As is almost the standard for tough problems, this model is an ensemble which combines five other tuned models.  Stacking and blending models like this is a great way to break past asymptotic accuracy barriers that are reached using only single models.\n",
    "\n",
    "This overall model was assembled using a logistic regression model, two different support vector classifiers, and two different gradient boosted decision trees.  Multiple methods of predicting the final output from the output of each individual classifier are used and compared at the end--with most getting within 0.5% accuracy of each other (however, like I said, I was fighting this data for crumbs so 0.5% is a lot to me).\n",
    "\n",
    "![hello](https://media.giphy.com/media/Wj7lNjMNDxSmc/giphy.gif)\n",
    "\n",
    "## Table of Contents\n",
    "1. [Load and preprocess data](#data_load)\n",
    "    - [Dealing with missing answers](#missing_vals)\n",
    "    - [A little more data preparation](#more_prep)\n",
    "    \n",
    "+ [Building individual models](#models)\n",
    "    - [Logarithmic Regression model](#logreg)\n",
    "    - [Light Gradient Boosted Model (LGBM)](#lgbm)\n",
    "    - [First Support Vector Classifier (SVC)](#svc1)\n",
    "    - [Second Support Vector Classifier (SVC)](#svc2)\n",
    "    - [XGBoost model](#xgb)\n",
    "    \n",
    "+ [Training the ensemble](#ensemble)\n",
    "    - [Mean of predictions](#mean)\n",
    "    - [Weighted mean of predictions](#weighted_mean)\n",
    "    - [Mode of predictions](#mode)\n",
    "    - [Logarithmic regression ensemble](#logensemble)\n",
    "    - [SVC ensemble](#svcensemble)\n",
    "    - [Decision tree ensemble](#treeensemble)\n",
    "+ [Conclusions](#conclusions)\n",
    "\n",
    "<a id=\"data_load\"></a>\n",
    "## Data loading and preprocessing\n",
    "\n",
    "As usual, this first section simply installs any needed packages and imports any necessary packages, classes, and functions.  The data is loaded into a dataframe and all rows of data with missing or non-binary genders is removed. "
   ]
  },
  {
   "cell_type": "code",
   "execution_count": 1,
   "metadata": {},
   "outputs": [
    {
     "name": "stderr",
     "output_type": "stream",
     "text": [
      "Invalid requirement: ''scikit-learn==0.20.3''\n",
      "\n"
     ]
    }
   ],
   "source": [
    "!pip install xgboost -q -q -q\n",
    "!pip install 'scikit-learn==0.20.3' -q -q -q\n",
    "!pip install lightgbm -q -q -q\n",
    "!pip install scikit-optimize -q -q -q\n",
    "!pip install numpy --upgrade -q -q -q\n",
    "!pip install seaborn -q -q -q"
   ]
  },
  {
   "cell_type": "code",
   "execution_count": 2,
   "metadata": {},
   "outputs": [
    {
     "data": {
      "text/html": [
       "<div>\n",
       "<style scoped>\n",
       "    .dataframe tbody tr th:only-of-type {\n",
       "        vertical-align: middle;\n",
       "    }\n",
       "\n",
       "    .dataframe tbody tr th {\n",
       "        vertical-align: top;\n",
       "    }\n",
       "\n",
       "    .dataframe thead th {\n",
       "        text-align: right;\n",
       "    }\n",
       "</style>\n",
       "<table border=\"1\" class=\"dataframe\">\n",
       "  <thead>\n",
       "    <tr style=\"text-align: right;\">\n",
       "      <th></th>\n",
       "      <th>A1</th>\n",
       "      <th>A2</th>\n",
       "      <th>A3</th>\n",
       "      <th>A4</th>\n",
       "      <th>A5</th>\n",
       "      <th>A6</th>\n",
       "      <th>A7</th>\n",
       "      <th>A8</th>\n",
       "      <th>A9</th>\n",
       "      <th>A10</th>\n",
       "      <th>...</th>\n",
       "      <th>gender</th>\n",
       "      <th>accuracy</th>\n",
       "      <th>country</th>\n",
       "      <th>source</th>\n",
       "      <th>elapsed</th>\n",
       "      <th>sqrtbox_age</th>\n",
       "      <th>box_accuracy</th>\n",
       "      <th>box_elapsed</th>\n",
       "      <th>bin_age</th>\n",
       "      <th>bin_country</th>\n",
       "    </tr>\n",
       "  </thead>\n",
       "  <tbody>\n",
       "    <tr>\n",
       "      <th>0</th>\n",
       "      <td>1</td>\n",
       "      <td>4</td>\n",
       "      <td>2</td>\n",
       "      <td>3</td>\n",
       "      <td>3</td>\n",
       "      <td>2</td>\n",
       "      <td>3</td>\n",
       "      <td>4</td>\n",
       "      <td>4</td>\n",
       "      <td>3</td>\n",
       "      <td>...</td>\n",
       "      <td>1</td>\n",
       "      <td>92</td>\n",
       "      <td>US</td>\n",
       "      <td>5</td>\n",
       "      <td>914</td>\n",
       "      <td>1.683215</td>\n",
       "      <td>2.270186</td>\n",
       "      <td>9.774004</td>\n",
       "      <td>0</td>\n",
       "      <td>US</td>\n",
       "    </tr>\n",
       "    <tr>\n",
       "      <th>1</th>\n",
       "      <td>4</td>\n",
       "      <td>3</td>\n",
       "      <td>4</td>\n",
       "      <td>3</td>\n",
       "      <td>4</td>\n",
       "      <td>4</td>\n",
       "      <td>4</td>\n",
       "      <td>4</td>\n",
       "      <td>2</td>\n",
       "      <td>2</td>\n",
       "      <td>...</td>\n",
       "      <td>1</td>\n",
       "      <td>100</td>\n",
       "      <td>US</td>\n",
       "      <td>0</td>\n",
       "      <td>891</td>\n",
       "      <td>1.900242</td>\n",
       "      <td>2.287068</td>\n",
       "      <td>9.723672</td>\n",
       "      <td>4</td>\n",
       "      <td>US</td>\n",
       "    </tr>\n",
       "    <tr>\n",
       "      <th>2</th>\n",
       "      <td>3</td>\n",
       "      <td>4</td>\n",
       "      <td>4</td>\n",
       "      <td>4</td>\n",
       "      <td>4</td>\n",
       "      <td>4</td>\n",
       "      <td>4</td>\n",
       "      <td>3</td>\n",
       "      <td>2</td>\n",
       "      <td>2</td>\n",
       "      <td>...</td>\n",
       "      <td>1</td>\n",
       "      <td>80</td>\n",
       "      <td>US</td>\n",
       "      <td>5</td>\n",
       "      <td>903</td>\n",
       "      <td>1.853102</td>\n",
       "      <td>2.240760</td>\n",
       "      <td>9.750076</td>\n",
       "      <td>3</td>\n",
       "      <td>US</td>\n",
       "    </tr>\n",
       "    <tr>\n",
       "      <th>3</th>\n",
       "      <td>4</td>\n",
       "      <td>5</td>\n",
       "      <td>4</td>\n",
       "      <td>4</td>\n",
       "      <td>4</td>\n",
       "      <td>3</td>\n",
       "      <td>3</td>\n",
       "      <td>2</td>\n",
       "      <td>2</td>\n",
       "      <td>2</td>\n",
       "      <td>...</td>\n",
       "      <td>1</td>\n",
       "      <td>93</td>\n",
       "      <td>US</td>\n",
       "      <td>0</td>\n",
       "      <td>806</td>\n",
       "      <td>1.861649</td>\n",
       "      <td>2.272403</td>\n",
       "      <td>9.526909</td>\n",
       "      <td>3</td>\n",
       "      <td>US</td>\n",
       "    </tr>\n",
       "    <tr>\n",
       "      <th>4</th>\n",
       "      <td>4</td>\n",
       "      <td>0</td>\n",
       "      <td>4</td>\n",
       "      <td>4</td>\n",
       "      <td>4</td>\n",
       "      <td>3</td>\n",
       "      <td>5</td>\n",
       "      <td>1</td>\n",
       "      <td>2</td>\n",
       "      <td>4</td>\n",
       "      <td>...</td>\n",
       "      <td>2</td>\n",
       "      <td>87</td>\n",
       "      <td>NZ</td>\n",
       "      <td>0</td>\n",
       "      <td>1826</td>\n",
       "      <td>1.956691</td>\n",
       "      <td>2.258593</td>\n",
       "      <td>11.190933</td>\n",
       "      <td>4</td>\n",
       "      <td>Other</td>\n",
       "    </tr>\n",
       "  </tbody>\n",
       "</table>\n",
       "<p>5 rows × 174 columns</p>\n",
       "</div>"
      ],
      "text/plain": [
       "   A1  A2  A3  A4  A5  A6  A7  A8  A9  A10  ...  gender  accuracy  country  \\\n",
       "0   1   4   2   3   3   2   3   4   4    3  ...       1        92       US   \n",
       "1   4   3   4   3   4   4   4   4   2    2  ...       1       100       US   \n",
       "2   3   4   4   4   4   4   4   3   2    2  ...       1        80       US   \n",
       "3   4   5   4   4   4   3   3   2   2    2  ...       1        93       US   \n",
       "4   4   0   4   4   4   3   5   1   2    4  ...       2        87       NZ   \n",
       "\n",
       "   source  elapsed  sqrtbox_age  box_accuracy  box_elapsed  bin_age  \\\n",
       "0       5      914     1.683215      2.270186     9.774004        0   \n",
       "1       0      891     1.900242      2.287068     9.723672        4   \n",
       "2       5      903     1.853102      2.240760     9.750076        3   \n",
       "3       0      806     1.861649      2.272403     9.526909        3   \n",
       "4       0     1826     1.956691      2.258593    11.190933        4   \n",
       "\n",
       "   bin_country  \n",
       "0           US  \n",
       "1           US  \n",
       "2           US  \n",
       "3           US  \n",
       "4        Other  \n",
       "\n",
       "[5 rows x 174 columns]"
      ]
     },
     "execution_count": 2,
     "metadata": {},
     "output_type": "execute_result"
    }
   ],
   "source": [
    "import pandas as pd\n",
    "import numpy as np\n",
    "import matplotlib.pyplot as plt\n",
    "import seaborn as sns\n",
    "from tqdm import tqdm_notebook\n",
    "import time\n",
    "from sklearn.model_selection import train_test_split\n",
    "from sklearn.model_selection import GridSearchCV\n",
    "from sklearn.linear_model import LogisticRegression\n",
    "from sklearn.metrics import accuracy_score\n",
    "from sklearn.svm import SVC\n",
    "from skopt.space import Real, Integer, Categorical\n",
    "from xgboost import XGBClassifier\n",
    "from lightgbm import LGBMClassifier\n",
    "import pickle\n",
    "import copy\n",
    "import itertools\n",
    "from scipy import stats\n",
    "import random\n",
    "from sklearn.linear_model import LogisticRegressionCV\n",
    "from sklearn.tree import DecisionTreeClassifier\n",
    "\n",
    "def pct(num):\n",
    "    return int(round(num*10000))/100.00\n",
    "\n",
    "%matplotlib inline\n",
    "\n",
    "#sklearn kind of sucks and puts out a lot of metric warnings--especially when you have an extreme minority class that may\n",
    "#not get predicted.\n",
    "def warn(*args, **kwargs):\n",
    "    pass\n",
    "import warnings\n",
    "warnings.warn = warn\n",
    "\n",
    "df = pd.read_csv('data_trans.csv', encoding='utf-8')\n",
    "df.head()"
   ]
  },
  {
   "cell_type": "code",
   "execution_count": 3,
   "metadata": {},
   "outputs": [],
   "source": [
    "df.gender.value_counts(dropna=False)\n",
    "og_count = df.shape[0]\n",
    "df = df[df.gender!=0]\n",
    "\n",
    "non_features = ['age', 'accuracy', 'elapsed', 'gender', 'source', 'country',\n",
    "               'sqrtbox_age', 'box_accuracy', 'box_elapsed', 'bin_age', 'bin_country']\n",
    "\n",
    "# create a copy dataset but drop all non-binary genders (which makes it a binary classification problem)\n",
    "# re-code binary variables to be 0/1 instead of 1/2\n",
    "X = df.drop(non_features, axis=1)\n",
    "y = df.gender\n",
    "X = X[y>0]\n",
    "y = y[y>0]\n",
    "X = X[y<3]\n",
    "y = y[y<3]\n",
    "y = y-1"
   ]
  },
  {
   "cell_type": "markdown",
   "metadata": {},
   "source": [
    "<a id=\"missing_vals\"></a>\n",
    "### Dealing with missing data\n",
    "\n",
    "First things first, we must deal with missing data.  Below is a distribution plot for how many rows are missing values for all of the columns.  Considering there is almost 40k rows of data total, each column missing a few hundred values doesn't seem to be that significant."
   ]
  },
  {
   "cell_type": "code",
   "execution_count": 4,
   "metadata": {},
   "outputs": [
    {
     "name": "stderr",
     "output_type": "stream",
     "text": [
      "/home/ubuntu/anaconda3/lib/python3.7/site-packages/scipy/stats/stats.py:1713: FutureWarning: Using a non-tuple sequence for multidimensional indexing is deprecated; use `arr[tuple(seq)]` instead of `arr[seq]`. In the future this will be interpreted as an array index, `arr[np.array(seq)]`, which will result either in an error or a different result.\n",
      "  return np.add.reduce(sorted[indexer] * weights, axis=axis) / sumval\n"
     ]
    },
    {
     "data": {
      "image/png": "[encoded data removed]",
      "text/plain": [
       "<Figure size 432x288 with 1 Axes>"
      ]
     },
     "metadata": {
      "needs_background": "light"
     },
     "output_type": "display_data"
    }
   ],
   "source": [
    "sns.distplot([X[col].value_counts()[0] for col in X.columns], color='seagreen')\n",
    "plt.xlabel(\"Number of missing values per column\")\n",
    "plt.title(\"Distribution of missing values by column\");"
   ]
  },
  {
   "cell_type": "code",
   "execution_count": 5,
   "metadata": {},
   "outputs": [
    {
     "name": "stdout",
     "output_type": "stream",
     "text": [
      "27.70907132351418% of the rows have at least one missing question in the dataset.\n",
      "There are 34897 rows of data with no missing questions.\n"
     ]
    }
   ],
   "source": [
    "# the below function counts the number of missing values in each row\n",
    "def missing_count(row, missing_val=0):\n",
    "    vals = set(row.unique())\n",
    "    if 0 in vals: vals.remove(0)\n",
    "    else: return 0\n",
    "    flatten_dict = {x:0 for x in vals}\n",
    "    flatten_dict[0] = 1\n",
    "    return row.replace(flatten_dict).sum()\n",
    "\n",
    "has_zeros = X.apply(missing_count, axis=1)\n",
    "zero_count = has_zeros.value_counts()\n",
    "print(f\"{pct(len(X)-zero_count[0])/len(has_zeros)}% of the rows have at least one missing question in the dataset.\")\n",
    "print(f\"There are {zero_count[0]} rows of data with no missing questions.\")"
   ]
  },
  {
   "cell_type": "code",
   "execution_count": 6,
   "metadata": {},
   "outputs": [
    {
     "data": {
      "image/png": "[encoded data removed]",
      "text/plain": [
       "<Figure size 864x504 with 1 Axes>"
      ]
     },
     "metadata": {
      "needs_background": "light"
     },
     "output_type": "display_data"
    },
    {
     "data": {
      "image/png": "[encoded data removed]",
      "text/plain": [
       "<Figure size 864x504 with 1 Axes>"
      ]
     },
     "metadata": {
      "needs_background": "light"
     },
     "output_type": "display_data"
    }
   ],
   "source": [
    "plt.figure(figsize=(12, 7))\n",
    "plt.hist(has_zeros[has_zeros>1], color='maroon', alpha=0.8)\n",
    "plt.title(\"Distribution of missing values by row\", fontsize=16)\n",
    "plt.xlabel(\"Number of missing values\", fontsize=14)\n",
    "plt.ylabel(\"Number of rows with missing values\", fontsize=14)\n",
    "plt.show()\n",
    "\n",
    "bins = np.geomspace(2, 163, 10)\n",
    "int_bins = [int(i) for i in bins]\n",
    "plt.figure(figsize=(12, 7))\n",
    "plt.hist(has_zeros, bins=bins, color='seagreen', alpha=0.8)\n",
    "plt.title(\"Distribution of missing values for rows with 2 or more missing values in logscale\", fontsize=16)\n",
    "plt.xlabel(\"Number of missing values\", fontsize=14)\n",
    "plt.ylabel(\"Number of rows with missing values\", fontsize=14)\n",
    "plt.xticks(int_bins, rotation=90, fontsize=9)\n",
    "plt.yscale('log');"
   ]
  },
  {
   "cell_type": "markdown",
   "metadata": {},
   "source": [
    "#### Removing the missing data\n",
    "\n",
    "Clearly, the vast majority of rows of data are missing only one value or less.  My first instinct was to drop all rows that were missing more than one answer but, through experimentation with the data, I realized that dropping all rows of data gives--by far--the best performance boost over almost every alternate method (from specially encoding missing values to using complex imputation techniques).  For this reason, I end up setting the cut-off level for removing a row to be *any* missing answers."
   ]
  },
  {
   "cell_type": "code",
   "execution_count": 7,
   "metadata": {},
   "outputs": [
    {
     "name": "stdout",
     "output_type": "stream",
     "text": [
      "The data has 34897 rows with 0 or fewer missing answers.\n"
     ]
    }
   ],
   "source": [
    "cut_off = 0\n",
    "X_drop = X[has_zeros<=cut_off]\n",
    "y_drop = y[has_zeros<=cut_off]\n",
    "print(f\"The data has {len(X_drop)} rows with {cut_off} or fewer missing answers.\")"
   ]
  },
  {
   "cell_type": "markdown",
   "metadata": {},
   "source": [
    "<a id=\"more_prep\"></a>\n",
    "### A little more data preparation\n",
    "\n",
    "This section is a quick section to prep the data before training.  The class defined in the next block transforms our ordinal variables into a decent form for use with logistic regression.  This is an encoding method I developed on my own with which I've noticed consistent better performance with ordinal variables on logistic regression (and neural networks--but that's a later notebook).  This method works similar to one-hot encoding, but instead of all columns being zero except for the category we want to represent, the ordinal category we wish to represent and all categories less than it are encoded with a one and all higher ordinal categories are zero.  There are solid mathematical reasons why this works by allowing the process of minimizing the loss function of our logistic regression system to encode the optimal distance between each ordinal variable--but that is also another notebook.  I plan on doing a workthrough notebook and a short write-up on the method and uploading it to my GitHub at some point in the future.\n",
    "\n",
    "As a quick example, if the column being transformed can be missing values (0) or one of two ordinals (1 or 2), the encoder will transform each as follows:\n",
    "\n",
    "        0  ->  [0, 0]\n",
    "        1  ->  [1, 0]\n",
    "        2  ->  [1, 1]\n",
    "\n",
    "After the encoding class is defined, the data is split into a training, validation, and testing set and an ordinal dummy encoding done on a copy of each.  I am using a three-way split so that the individual models can be tuned using crossvalidation and resampling techniques on just the training set and then the ensemble model will be trained on the validation set.  Training the ensemble on a different set than the individual models is necessary to avoid serious data leakage. Training and tuning the ensemble model on the same training set that the individual models were trained was estimating my final accuracy to be nearly 100% but only giving me 79 - 80% on the actual test data."
   ]
  },
  {
   "cell_type": "code",
   "execution_count": 8,
   "metadata": {},
   "outputs": [],
   "source": [
    "class OrdinalDummyEncoder:\n",
    "    \n",
    "    def __init__(self, impute_missing=None):\n",
    "        # impute_missing is a simple variable that lets you impute the mean or mode into missing values as\n",
    "        # it encodes each column\n",
    "        # using \"mean\" gives an interesting result because it encodes missing values as the expected value of the variable\n",
    "        self.impute_missing = impute_missing\n",
    "    \n",
    "    def fit(self, X, y):\n",
    "        # added to be compatible with scikit-learn encoders.  Unused because nothing needs to be fit.\n",
    "        pass\n",
    "    \n",
    "    def fit_transform(self, X, cols=None, verbose=False):\n",
    "        # added to be compatible with scikit-learn encoders.  Just transforms because nothing needs to be fit.\n",
    "        return self.transform(X, cols=cols, verbose=verbose)\n",
    "    \n",
    "    def transform(self, X_vals, cols=None, verbose=False):\n",
    "        # transforms the the df to ordinal dummy encoded variables as described above\n",
    "        # if cols=None, transform every column.  Else, transform the columns with names in 'cols'\n",
    "        X = X_vals.copy()\n",
    "        first_col = True\n",
    "        if cols: columns=cols\n",
    "        else: columns=X.columns\n",
    "        for col in tqdm_notebook(columns, disable=(not verbose)):\n",
    "            trans_col = self.__column_transformer(X[col])\n",
    "            if first_col:\n",
    "                new_df = trans_col\n",
    "                first_col=False\n",
    "            else:\n",
    "                new_df = pd.concat([new_df, trans_col], axis=1)\n",
    "        return new_df\n",
    "    \n",
    "    def __column_transformer(self, column):\n",
    "        # encodes a single column\n",
    "        if 0 in column.unique():\n",
    "            num_new_cols = len(column.unique())\n",
    "        else:\n",
    "            num_new_cols = len(column.unique())+1\n",
    "        col_length = len(column)\n",
    "        new_col_array = np.zeros((col_length, num_new_cols-1), dtype=int)\n",
    "        row_count=0\n",
    "        indexes = []\n",
    "        for index, row in column.iteritems():\n",
    "            col_index = row-1\n",
    "            if col_index>=0:\n",
    "                num_last_zs = num_new_cols-row\n",
    "                encoded = [1]*row + [0]*(num_last_zs-1)\n",
    "                new_col_array[row_count] = encoded\n",
    "            row_count+=1\n",
    "            indexes.append(index)\n",
    "        returned = pd.DataFrame(new_col_array, columns=[column.name+'_'+str(i) for i in range(1,num_new_cols)], index=indexes)\n",
    "        if self.impute_missing==\"mean\" or self.impute_missing==\"mode\":\n",
    "            for col in returned:\n",
    "                if self.impute_missing==\"mean\":\n",
    "                    returned[col][column==0] = returned[col].mean()\n",
    "                elif self.impute_missing==\"mode\":\n",
    "                    returned[column==0] = returned[col].mode()\n",
    "        return returned"
   ]
  },
  {
   "cell_type": "code",
   "execution_count": 9,
   "metadata": {},
   "outputs": [],
   "source": [
    "X_train, X_, y_train, y_ = train_test_split(X_drop, y_drop, test_size=0.7, stratify=y_drop, random_state=12)\n",
    "X_test, X_val, y_test, y_val = train_test_split(X_, y_, test_size=0.66, stratify=y_, random_state=36)\n",
    "\n",
    "ord_encoder = OrdinalDummyEncoder()\n",
    "X_train_ord = ord_encoder.transform(X_train)\n",
    "X_test_ord = ord_encoder.transform(X_test)\n",
    "X_val_ord = ord_encoder.transform(X_val)"
   ]
  },
  {
   "cell_type": "markdown",
   "metadata": {},
   "source": [
    "The below block just gives me a simple method to save the exact data splits and models so that I could experiment with the final ensemble on my laptop and save some of my precious free AWS time.  It will also help in a future notebook where I plan on using an ensemble that combines these traditional models with deep learning techniques.  Keeping the same exact models and data splits will allow me to make direct comparisons between methods in future notebooks."
   ]
  },
  {
   "cell_type": "code",
   "execution_count": 10,
   "metadata": {},
   "outputs": [],
   "source": [
    "def save_pickle(obj, name, file_type=None):\n",
    "    if file_type is None:\n",
    "        file_type = \".data\"\n",
    "    file = open(name+file_type, 'wb')\n",
    "    pickle.dump(obj, file)\n",
    "    file.close()\n",
    "\n",
    "def load_pickle(name):\n",
    "    file = open(name, 'rb')\n",
    "    r = pickle.load(file)\n",
    "    file.close()\n",
    "    return r\n",
    "\n",
    "save_pickle(X_train, \"X_train\")\n",
    "save_pickle(X_test, \"X_test\")\n",
    "save_pickle(X_val, \"X_val\")\n",
    "save_pickle(X_train_ord, \"X_train_ord\")\n",
    "save_pickle(X_test_ord, \"X_test_ord\")\n",
    "save_pickle(X_val_ord, \"X_val_ord\")\n",
    "save_pickle(y_train, \"y_train\")\n",
    "save_pickle(y_test, \"y_test\")\n",
    "save_pickle(y_val, \"y_val\")"
   ]
  },
  {
   "cell_type": "markdown",
   "metadata": {},
   "source": [
    "<a id=\"models\"></a>\n",
    "## Building individual models\n",
    "\n",
    "Now starts the fun part.  Five different models will be created a tuned.  The goal is to get each individual model to at least 80% so that no single model drags down the overall accuracy of the ensemble.  Granted, a second key component is having models that misclassify differently and don't all behave exactly the same--a big reason I went with two separate SVCs (one polynomial kernel and one radial basis function kernel) to help ensure decision boundaries are distinct between the models.\n",
    "\n",
    "<a id=\"logreg\"></a>\n",
    "### Logarithmic Regression\n",
    "\n",
    "The first model trained is my personal favorite method.  I **looooove** logistic regression for it's speed, ease-of-use, reliability, and it's naturally calibrated probabilities.  I could've simply used scikit-learn's LogisticRegressionCV and saved some time on the following grid search but I wanted to be absolutely confident that there wasn't a better model sitting out there with a different loss function or balanced weights."
   ]
  },
  {
   "cell_type": "code",
   "execution_count": 11,
   "metadata": {},
   "outputs": [
    {
     "name": "stdout",
     "output_type": "stream",
     "text": [
      "Best hyperparameters found: {'C': 0.011513953993264481, 'class_weight': None, 'penalty': 'l2'}\n",
      "Best resample accuracy: 81.03%\n"
     ]
    }
   ],
   "source": [
    "base_C = np.logspace(-5, 5, 50)\n",
    "param_grid = {'C': base_C, 'penalty': ['l1', 'l2'], 'class_weight': [None, 'balanced']}\n",
    "logreg_seed = 13\n",
    "grid = GridSearchCV(LogisticRegression(random_state=logreg_seed, max_iter=300), param_grid, cv=5, n_jobs=-1)\n",
    "grid.fit(X_train_ord, y_train)\n",
    "log_best_params = grid.best_params_\n",
    "print(\"Best hyperparameters found: \"+str(log_best_params))\n",
    "print(f\"Best resample accuracy: {pct(grid.best_score_)}%\")"
   ]
  },
  {
   "cell_type": "code",
   "execution_count": 12,
   "metadata": {},
   "outputs": [
    {
     "name": "stdout",
     "output_type": "stream",
     "text": [
      "Overall accuracy of best model found: 81.55\n"
     ]
    }
   ],
   "source": [
    "log_model = LogisticRegression(**log_best_params, random_state=logreg_seed, n_jobs=-1)\n",
    "log_model.fit(X_train_ord, y_train)\n",
    "y_test_preds = log_model.predict(X_test_ord)\n",
    "print(f\"Overall accuracy of best model found: {pct(accuracy_score(y_test, y_test_preds))}\")\n",
    "save_pickle(log_model, \"log_model\")"
   ]
  },
  {
   "cell_type": "markdown",
   "metadata": {},
   "source": [
    "#### Hyperparameter tuning with resampling\n",
    "\n",
    "The following class is a quick draft of a full class (well, group of classes) I've made to tune hyperparameters using resampling techniques instead of k-fold crossvalidation.  While resampling tends to underestimate accuracy compared to crossvalidation, it does so *consistently*--a trait which still makes it valuable for hyperparameter tuning.  Specific hyperparameters that maximize crossvalidation accuracy should--in most situations--also maximize accuracy estimated by training and evaluating the model on a large group of samples.  The benefit to this is that hyperparameter tuning using resampling tends to be much faster as each model can be trained on a much smaller sample than each fold is in crossvalidation.\n",
    "\n",
    "If you'd like to see the full implementation of the following randomized search with resampling class as well it's little brother grid search with resampling, you can look into it further on my GitHub [here](https://github.com/metriczulu/tuneRs)."
   ]
  },
  {
   "cell_type": "code",
   "execution_count": 13,
   "metadata": {},
   "outputs": [],
   "source": [
    "class RandomSearchResample:\n",
    "    \n",
    "    def __init__(self, model, params, num_iter=60, num_samples=10, sample_size=0.2, test_size=0.3, metric=None, \n",
    "                 random_state=None):\n",
    "        '''\n",
    "        param model:        The model to tune\n",
    "        param params:       A parameter dictionary.  Uses the scikit-optimize variables skopt.Integer, skopt.Categorical, and \n",
    "                            skopt.Real\n",
    "        param num_iter:     Number of random variables to try\n",
    "        param num_samples:  The total number of samples and models trained for each parameter\n",
    "        param sample_size:  The size of samples taken.  Any percentage in (0, 1]\n",
    "        param test_size:    Size of the test size in each sample\n",
    "        param metric:       Scoring metric to evaluate each model.  Defaults to simple accuracy if None\n",
    "        param random_state: Self-explanatory\n",
    "        '''\n",
    "        self.metric = metric\n",
    "        self.num_samples = num_samples\n",
    "        self.sample_size = sample_size\n",
    "        self.test_size = test_size\n",
    "        self.best_params_ = None\n",
    "        self.model = model\n",
    "        if random_state is None:\n",
    "            random_state = np.random.randint(0, 36000)\n",
    "        self.random_state = random_state\n",
    "        self.num_iter = num_iter\n",
    "        self.best_score_ = 0.0\n",
    "        self.best_model = None\n",
    "        self.best_std_ = 0.0\n",
    "        self.params=params\n",
    "        self.param_grid = self.__random_grid(self.random_state+13)\n",
    "        \n",
    "    def __random_grid(self, random_state=None):\n",
    "        # Generates a list of random hyperparameter dictionaries to iterate over\n",
    "        if random_state==None:\n",
    "            random_state = np.random.randint(0, 36000)\n",
    "        np.random.seed(random_state)\n",
    "        random_list = np.random.randint(0, 36000, size=self.num_iter)\n",
    "        param_list = []\n",
    "        for index in range(self.num_iter):\n",
    "            param_list.append({key: self.params[key].rvs(1, random_state=random_list[index])[0] for key in self.params})\n",
    "        return param_list\n",
    "        \n",
    "    def __resample_eval(self, model, X, y, verbose=False):\n",
    "        '''\n",
    "        Evaluates the model on a given set\n",
    "        \n",
    "        param model:   model to evaluate\n",
    "        param X:       Training data\n",
    "        param y:       Labels\n",
    "        param verbose: True to generate tqdm bar\n",
    "        '''\n",
    "        np.random.seed(self.random_state)\n",
    "        random_list = np.random.randint(0, 36000, size=self.num_samples)\n",
    "        if self.metric is None:\n",
    "            metric = accuracy_score  \n",
    "        sample_scores = []\n",
    "        for sample_ndx in tqdm_notebook(range(self.num_samples), disable=(not verbose)):\n",
    "            X_sample, _, y_sample, _ = train_test_split(X, y, train_size=self.sample_size, stratify=y, \n",
    "                                                        random_state=random_list[sample_ndx]+13)\n",
    "            X_train, X_test, y_train, y_test = train_test_split(X_sample, y_sample, test_size=self.test_size, \n",
    "                                                                stratify=y_sample, random_state=random_list[sample_ndx])\n",
    "            clf = model.fit(X_train, y_train)\n",
    "            y_pred = clf.predict(X_test)\n",
    "            sample_scores.append(metric(y_test, y_pred))            \n",
    "        mean = np.mean(sample_scores)\n",
    "        std = np.std(sample_scores)\n",
    "        return mean, std\n",
    "        \n",
    "    def fit(self, X, y, verbose=False):\n",
    "        '''\n",
    "        Finds the optimal hyperparameter\n",
    "        \n",
    "        param X:       Training data\n",
    "        param y:       Labels\n",
    "        param verbose: True to generate tqdm bar\n",
    "        '''\n",
    "        for random_param in tqdm_notebook(self.param_grid, disable=(not verbose)):\n",
    "            self.model.set_params(**random_param)\n",
    "            score, std = self.__resample_eval(self.model, X, y)\n",
    "            if score>self.best_score_:\n",
    "                self.best_params_ = random_param\n",
    "                self.best_score_ = score\n",
    "                self.best_std_ = std\n",
    "                self.best_model = copy.copy(self.model)"
   ]
  },
  {
   "cell_type": "markdown",
   "metadata": {},
   "source": [
    "<a id=\"lgbm\"></a>\n",
    "### Light Gradient Boosted Model (LGBM classifier)\n",
    "\n",
    "Not exactly related to this notebook, just want to throw it out there that LGBM is--by far--one of my favorite packages to use and the best implementation of gradient boosted tree ensembles in the world."
   ]
  },
  {
   "cell_type": "code",
   "execution_count": 14,
   "metadata": {},
   "outputs": [
    {
     "name": "stdout",
     "output_type": "stream",
     "text": [
      "Best hyperparameters found: {'max_depth': 16, 'loss_function': 'CrossEntropy', 'num_leaves': 118, 'learning_rate': 0.3082744216762507, 'n_estimators': 2355, 'max_bin': 6, 'boosting_type': 'dart'}\n",
      "Best resample accuracy: 79.0%\n"
     ]
    }
   ],
   "source": [
    "param_space = {'max_depth': Integer(1, 32), \n",
    "              'loss_function': Categorical(['Logloss', 'CrossEntropy']), \n",
    "              'num_leaves': Integer(2, 150),\n",
    "              'learning_rate': Real(.001, 0.5),\n",
    "              'n_estimators': Integer(100, 3000),\n",
    "              'max_bin': Integer(2, 12),\n",
    "              'boosting_type': Categorical(['gbdt', 'dart', 'goss'])}\n",
    "lgbm_seed = 7\n",
    "grid = RandomSearchResample(LGBMClassifier(random_state=lgbm_seed, n_jobs=-1), params=param_space, \n",
    "                            num_iter=120, num_samples=20, random_state=396)\n",
    "grid.fit(X_train, y_train)\n",
    "lgbm_best_params = grid.best_params_\n",
    "print(\"Best hyperparameters found: \"+str(lgbm_best_params))\n",
    "print(f\"Best resample accuracy: {pct(grid.best_score_)}%\")"
   ]
  },
  {
   "cell_type": "code",
   "execution_count": 15,
   "metadata": {},
   "outputs": [
    {
     "name": "stdout",
     "output_type": "stream",
     "text": [
      "Overall accuracy of best model found: 81.63\n"
     ]
    }
   ],
   "source": [
    "lgbm_model = LGBMClassifier(**lgbm_best_params, random_state=lgbm_seed, n_jobs=-1)\n",
    "lgbm_model.fit(X_train, y_train)\n",
    "y_test_preds = lgbm_model.predict(X_test)\n",
    "print(f\"Overall accuracy of best model found: {pct(accuracy_score(y_test, y_test_preds))}\")\n",
    "save_pickle(lgbm_model, \"lgbm_model\")"
   ]
  },
  {
   "cell_type": "markdown",
   "metadata": {},
   "source": [
    "<a id=\"svc1\"></a>\n",
    "### First Support Vector Classifier (SVC)\n",
    "\n",
    "This first SVC is made using a radial basis function (RBF) kernel and tuned using a simple grid search."
   ]
  },
  {
   "cell_type": "code",
   "execution_count": 16,
   "metadata": {},
   "outputs": [
    {
     "name": "stdout",
     "output_type": "stream",
     "text": [
      "Best hyperparameters found: {'C': 10, 'gamma': 0.001}\n",
      "Best resample accuracy: 80.42%\n"
     ]
    }
   ],
   "source": [
    "param_space = {'C':[0.01, 0.1, 1, 10, 100],\n",
    "              'gamma': [0.0001, 0.001, 0.01, 0.1, 1]}\n",
    "\n",
    "svc1_seed = 42\n",
    "grid = GridSearchCV(SVC(kernel='rbf', random_state=svc1_seed), param_space, cv=3, n_jobs=-1)\n",
    "grid.fit(X_train, y_train)\n",
    "svc1_best_params = grid.best_params_\n",
    "print(\"Best hyperparameters found: \"+str(svc1_best_params))\n",
    "print(f\"Best resample accuracy: {pct(grid.best_score_)}%\")"
   ]
  },
  {
   "cell_type": "code",
   "execution_count": 17,
   "metadata": {},
   "outputs": [
    {
     "name": "stdout",
     "output_type": "stream",
     "text": [
      "Overall accuracy of best model found: 81.82\n"
     ]
    }
   ],
   "source": [
    "svc1_model = SVC(kernel='rbf', **svc1_best_params, probability=True, random_state=svc1_seed)\n",
    "svc1_model.fit(X_train, y_train)\n",
    "y_test_preds = svc1_model.predict(X_test)\n",
    "print(f\"Overall accuracy of best model found: {pct(accuracy_score(y_test, y_test_preds))}\")\n",
    "save_pickle(svc1_model, \"svc1_model\")"
   ]
  },
  {
   "cell_type": "markdown",
   "metadata": {},
   "source": [
    "<a id=\"svc2\"></a>\n",
    "### Second Support Vector Classifier (SVC)\n",
    "\n",
    "This second SVC uses a polynomial kernel.  As we will be search over multiple polynomial degrees and training two and three degree polynomial kernels takes a long long time, the randomized search with resampling class will be used."
   ]
  },
  {
   "cell_type": "code",
   "execution_count": 18,
   "metadata": {},
   "outputs": [
    {
     "name": "stdout",
     "output_type": "stream",
     "text": [
      "Best hyperparameters found: {'degree': 3, 'C': 0.025749617515621524, 'gamma': 0.0025749617515621525}\n",
      "Best resample accuracy: 78.44%\n"
     ]
    }
   ],
   "source": [
    "param_space = {'degree': Integer(2, 3),\n",
    "               'C': Real(0.001, 1000, prior=\"log-uniform\"),\n",
    "               'gamma': Real(0.0001, 100, prior=\"log-uniform\")}\n",
    "svc2_seed = 37\n",
    "grid = RandomSearchResample(SVC(kernel='poly', random_state=svc2_seed), params=param_space, \n",
    "                            num_iter=120, num_samples=20, random_state=19)\n",
    "grid.fit(X_train, y_train)\n",
    "svc2_best_params = grid.best_params_\n",
    "print(\"Best hyperparameters found: \"+str(svc2_best_params))\n",
    "print(f\"Best resample accuracy: {pct(grid.best_score_)}%\")"
   ]
  },
  {
   "cell_type": "code",
   "execution_count": 19,
   "metadata": {},
   "outputs": [
    {
     "name": "stdout",
     "output_type": "stream",
     "text": [
      "Overall accuracy of best model found: 81.57\n"
     ]
    }
   ],
   "source": [
    "svc2_model = SVC(kernel='poly', **svc2_best_params, probability=True, random_state=svc2_seed)\n",
    "svc2_model.fit(X_train, y_train)\n",
    "y_test_preds = svc2_model.predict(X_test)\n",
    "print(f\"Overall accuracy of best model found: {pct(accuracy_score(y_test, y_test_preds))}\")\n",
    "save_pickle(svc2_model, \"svc2_model\")"
   ]
  },
  {
   "cell_type": "markdown",
   "metadata": {},
   "source": [
    "<a id=\"xgb\"></a>\n",
    "### XGBoost Classifier\n",
    "\n",
    "XGBoost seems to be the most popular gradient boosted tree ensemble library and for good reason.  It works.  I also considered using CatBoost as a classifier but the large number of categorical features in this data caused it to take waaaaay longer to train--even using resampling instead of crossvalidation."
   ]
  },
  {
   "cell_type": "code",
   "execution_count": 20,
   "metadata": {},
   "outputs": [
    {
     "name": "stdout",
     "output_type": "stream",
     "text": [
      "Best hyperparameters found: {'max_depth': 6, 'booster': 'gbtree', 'min_child_weight': 5, 'learning_rate': 0.06787839616843971, 'n_estimators': 982, 'gamma': 0.004678689346971979, 'colsample_bytree': 0.14268459360071206}\n",
      "Best resample accuracy: 78.92%\n"
     ]
    }
   ],
   "source": [
    "param_space = {'max_depth':Integer(2, 32), \n",
    "              'booster': Categorical(['gbtree', 'dart']), \n",
    "              'min_child_weight': Integer(1, 8),\n",
    "              'learning_rate': Real(0.001, 0.5),\n",
    "              'n_estimators': Integer(50, 3000),\n",
    "              'gamma': Real(0.001, 100, prior=\"log-uniform\"),\n",
    "              'colsample_bytree': Real(0.01, 1)}\n",
    "\n",
    "xgb_seed = 123\n",
    "grid = RandomSearchResample(XGBClassifier(verbosity=0, random_state=xgb_seed, n_jobs=-1), params=param_space, \n",
    "                            num_iter=120, num_samples=20, random_state=21)\n",
    "grid.fit(X_train, y_train)\n",
    "xgb_best_params = grid.best_params_\n",
    "print(\"Best hyperparameters found: \"+str(xgb_best_params))\n",
    "print(f\"Best resample accuracy: {pct(grid.best_score_)}%\")"
   ]
  },
  {
   "cell_type": "code",
   "execution_count": 21,
   "metadata": {},
   "outputs": [
    {
     "name": "stdout",
     "output_type": "stream",
     "text": [
      "Overall accuracy of best model found: 81.84\n"
     ]
    }
   ],
   "source": [
    "xgb_model = XGBClassifier(verbosity=0, random_state=xgb_seed, n_jobs=-1, **xgb_best_params)\n",
    "xgb_model.fit(X_train, y_train)\n",
    "y_test_preds = xgb_model.predict(X_test)\n",
    "print(f\"Overall accuracy of best model found: {pct(accuracy_score(y_test, y_test_preds))}\")\n",
    "save_pickle(xgb_model, \"xgb_model\")"
   ]
  },
  {
   "cell_type": "markdown",
   "metadata": {},
   "source": [
    "<a id=\"ensemble\"></a>\n",
    "## Training the ensemble model\n",
    "\n",
    "The class below allows me to combine the previous models together and train a new model to predict outcomes from the individual predictions.  This class is pretty large for a notebook and provides functionality to combine predictions by taking weighted averages of probabilities, taking the mode of predictions, and training an actual model to predict.  Rather than take the actual predictions of each model and combine them into an overall prediction, this class takes the *predicted probabilites* of each model and uses those probabilities to predict a label."
   ]
  },
  {
   "cell_type": "code",
   "execution_count": 22,
   "metadata": {},
   "outputs": [],
   "source": [
    "class PretrainedCatEnsemble:\n",
    "    def __init__(self, model_list, ensemble_model=None, weights=None, use_probs=True):\n",
    "        '''\n",
    "        Builds an ensemble model\n",
    "        \n",
    "        param model_list:     a list of the models to be used\n",
    "        param ensemble_model: the model used to combine predictions.  If None, defaults to logistic regression\n",
    "        param weights:        Weights to define importance of each model.  Defaults to one for each model\n",
    "        param use_probs:      True to use predicted probabilities to train ensemble model.  False to use\n",
    "                              actual predictions instead.\n",
    "        '''\n",
    "        if ensemble_model is None:\n",
    "            from sklearn.linear_model import LogisticRegression\n",
    "            self.ensemble_model = LogisticRegression()\n",
    "        else:\n",
    "            self.ensemble_model = ensemble_model\n",
    "        self.num_models = len(model_list)\n",
    "        self.model_list = model_list\n",
    "        self.num_labels = 1\n",
    "        self.use_probs = use_probs\n",
    "        self.optimal_params = dict()\n",
    "        self.stored_probs = None\n",
    "        self.stored_y = None\n",
    "        self.stored_test_probs = None\n",
    "        self.stored_test_y = None\n",
    "        self.stored_test = False\n",
    "        self.base_weights = np.array([1.0]*self.num_models)\n",
    "        self.max_weights = np.array([1.0]*self.num_models)\n",
    "        if weights is None:\n",
    "            self.weights = np.array([1.0]*self.num_models)\n",
    "        else:\n",
    "            self.weights = np.array(weights)\n",
    "\n",
    "    def set_data(self, X_train=None, y_train=None, X_test=None, y_test=None, weighted=False, verbose=False):\n",
    "        '''\n",
    "        Stores the main data splits used.  Done to save time on by only calculating predicted probabilities for both\n",
    "        once instead of every time.\n",
    "        \n",
    "        param X_train:   Training data\n",
    "        param y_train:   Training labels\n",
    "        param X_test:    Testing data\n",
    "        param y_test:    Testing labels\n",
    "        param weighted:  If True, use weighting scheme\n",
    "        '''\n",
    "        if X_train is not None:\n",
    "            self.stored_probs = self.__prob_array(X_train, weighted=weighted, verbose=verbose)\n",
    "        if X_test is not None:\n",
    "            self.stored_test = True\n",
    "            self.stored_test_probs = self.__prob_array(X_test, weighted=weighted, verbose=verbose)\n",
    "        if y_test is not None:\n",
    "            self.stored_test_y = y_test\n",
    "        if y_train is not None:\n",
    "            self.stored_y = y_train\n",
    "    \n",
    "    def set_weights(self, weights=\"base\"):\n",
    "        '''\n",
    "        Change importance weights\n",
    "        \n",
    "        param weights:  \"base\" to equally weight each model.  \"max\" to use generated maximal weigts.  Any other set\n",
    "                         input will be used as the weights directly.\n",
    "        '''\n",
    "        if weights==\"base\":\n",
    "            self.weights = self.base_weights\n",
    "        elif weights==\"max\":\n",
    "            self.weights = self.max_weights\n",
    "        else:\n",
    "            self.weights = weights\n",
    "\n",
    "    def change_ensemble_method(self, ensemble_model, weighted=False):\n",
    "        '''\n",
    "        Change the model used to predict outcomes from other models\n",
    "        \n",
    "        param ensemble_model:  New ensemble method to use\n",
    "        weighted:              If True, use weights to specify importance\n",
    "        \n",
    "        Returns: Predictions of model on training data\n",
    "        '''\n",
    "        self.ensemble_model = ensemble_model\n",
    "        if weighted:\n",
    "            X = self.stored_probs*self.weights\n",
    "        else:\n",
    "            X = self.stored_probs\n",
    "        self.ensemble_model.fit(X, self.stored_y)\n",
    "        return self.ensemble_model.predict(X)\n",
    "    \n",
    "    def tune_hyperparameters(self, hyperparameters, num_samples=5, method=\"bayes\", n_iter=60, \n",
    "                             n_jobs=-1, sample_size=0.2, test_size=0.3, verbose=0, random_state=None, train_final=True, \n",
    "                             return_accuracy=False, return_search=False, weighted=False):\n",
    "        '''\n",
    "        Automatically tunes hyperparameters for ensemble model\n",
    "        \n",
    "        param hyperparameters:     Hyperparameter grid to use\n",
    "        param num_samples:         Number of samples or crossvalidation folds to use\n",
    "        param method:              \"bayes\" for Bayesian optimization.  \"grid\" for cv grid search. \"random\" for \n",
    "                                    cv randomized search.  \"random-resample\" for resampled randomized search\n",
    "        param n_iter:              Number of iterations to use for Bayes or randomized methods\n",
    "        param n_jobs:              Number of cores to use\n",
    "        param sample_size:         Sample size for resample methods\n",
    "        param test_size:           Test set size in resamples\n",
    "        param verbose:             Verbosity of search.  Higher integers return more status.  Does not work with random-resample\n",
    "        param train_final:         If true, train ensemble model on optimal hyperparameters\n",
    "        param return_accuracy:     Return accuracy with parameters if True\n",
    "        param return_search:       If true, return the actual search model.  Can be used with random-resample to plot\n",
    "                                   distribution of sample accuracy if using full class found in GitHub link further up\n",
    "        param weighted:            If True, uses weighted predicted probabilities\n",
    "        \n",
    "        Returns:                   Some combination of best params, best score, and the search function itself\n",
    "        '''\n",
    "        if method==\"bayes\":\n",
    "            grid = BayesSearchCV(self.ensemble_model, hyperparameters, cv=num_samples, n_iter=n_iter, \n",
    "                                 verbose=verbose, n_jobs=n_jobs, random_state=random_state)\n",
    "        elif method==\"grid\":\n",
    "            grid = GridSearchCV(self.ensemble_model, hyperparameters, cv=num_samples, \n",
    "                                verbose=verbose, n_jobs=n_jobs)\n",
    "        elif method==\"random\":\n",
    "            grid = RandomizedSearchCV(self.ensemble_model, hyperparameters, cv=num_samples, n_iter=n_iter, \n",
    "                                      verbose=verbose, n_jobs=n_jobs, random_state=random_state)\n",
    "        elif method==\"random-resample\":\n",
    "            grid = RandomSearchResample(self.ensemble_model, params=hyperparameters, num_iter=n_iter, sample_size=sample_size,\n",
    "                                        num_samples=num_samples, test_size=test_size, random_state=random_state)\n",
    "        X = self.__prob_array(X=\"train\", weighted=weighted)\n",
    "        grid.fit(X, self.stored_y)\n",
    "        if train_final:\n",
    "            model = self.ensemble_model.set_params(**grid.best_params_)\n",
    "            model.fit(X, self.stored_y)\n",
    "        self.optimal_params = grid.best_params_\n",
    "        self.ensemble_model.set_params(**self.optimal_params)\n",
    "        if return_accuracy:\n",
    "            if return_search:\n",
    "                return grid.best_params_, grid.best_score_, grid\n",
    "            else:\n",
    "                return grid.best_params_, grid.best_score_\n",
    "        else:\n",
    "            if return_search:\n",
    "                 return grid.best_params_, grid\n",
    "            else:\n",
    "                return grid.best_params_\n",
    "\n",
    "    def maximize_weights(self, weight_grid=None, method=\"random\", set_weights=True, n_iter=1500, \n",
    "                         return_acc=True, random_state=None, verbose=False):\n",
    "        '''\n",
    "        Find weights which maximize accuracy of training data\n",
    "        \n",
    "        param weight_grid:   List of list of weights to search combinations of\n",
    "        param set_weights:   Set maximal weights found for future use\n",
    "        param n_iter:        Number of weight combinations to try\n",
    "        param method:        \"random\" to check random weights.  Anything else and a grid search is performed\n",
    "        param return_acc:    Return the best accuracy found\n",
    "        \n",
    "        Returns:  Maximal weighting found and maximum accuracy found (if return_acc=True)\n",
    "        '''\n",
    "        max_acc = 0.0\n",
    "        max_acc_weights = []\n",
    "        X = self.__prob_array(X=\"train\")\n",
    "        y = self.stored_y\n",
    "        if weight_grid is None:\n",
    "            simple_grid = np.arange(start=0.0, stop=1.01, step=0.05)\n",
    "            weight_grid = [simple_grid for _ in range(self.num_models)]\n",
    "        weight_grid = itertools.product(*weight_grid)\n",
    "        if method==\"random\":\n",
    "            random.seed(random_state)\n",
    "            weight_grid = random.sample(list(weight_grid), n_iter)\n",
    "        for weights in tqdm_notebook(weight_grid, disable=(not verbose)):\n",
    "            acc = accuracy_score(y, self.mean(X=X, weights=list(weights), need_prob_array=False))\n",
    "            if acc>max_acc:\n",
    "                max_acc = acc\n",
    "                max_acc_weights = weights\n",
    "        self.max_weights = weights\n",
    "        if set_weights:\n",
    "            self.weights = max_acc_weights\n",
    "        if return_acc:\n",
    "            return self.max_weights, max_acc\n",
    "        else:\n",
    "            return self.max_weights\n",
    "\n",
    "    def mean(self, X=\"train\", weights=\"base\", need_prob_array=True, probs=False, verbose=False):\n",
    "        '''\n",
    "        Calculates mean of a data set\n",
    "        \n",
    "        X:                Probability set to find mean of.  If \"train\", uses training data.  If \"test\", uses test data.\n",
    "        weights:          Weights to use\n",
    "        need_prob_array:  If True, generate probability array.  If False, use raw X input\n",
    "        probs:            If true, return predicted probabilities.  If False, return predictions\n",
    "        \n",
    "        Returns:  Predicted probabilities or predictions\n",
    "        '''\n",
    "        self.set_weights(weights)\n",
    "        if need_prob_array: og_probs = self.__prob_array(X, weighted=True, verbose=verbose)\n",
    "        else: og_probs = X*self.weights\n",
    "        total_weight = np.sum(self.weights)\n",
    "        if total_weight==0:\n",
    "            return np.array([0.0]*len(og_probs))\n",
    "        weighted_probs = []\n",
    "        for row in og_probs:\n",
    "            val = np.sum(row)/total_weight\n",
    "            if not probs:\n",
    "                val = int(round(val))\n",
    "            weighted_probs.append(val)\n",
    "        return np.array(weighted_probs)\n",
    "    \n",
    "    def fit(self, X, y, weighted=False, verbose=False, return_predictions=False):\n",
    "        '''\n",
    "        Fits ensemble model\n",
    "        \n",
    "        X:         Training data\n",
    "        y:         Labels\n",
    "        weighted:  If True, use weights\n",
    "        \n",
    "        Returns:  Predictions for X if return_predictions=True.  Else, return nothing.\n",
    "        '''\n",
    "        self.num_labels = len(y.unique())-1\n",
    "        X_probs = self.__prob_array(X, weighted=weighted, verbose=verbose)\n",
    "        self.stored_probs = X_probs\n",
    "        self.stored_y = y\n",
    "        self.ensemble_model.fit(X_probs, y)\n",
    "        if return_predictions:\n",
    "            return self.ensemble_model.predict(X_probs)\n",
    "        \n",
    "    def predict(self, X, verbose=False, weighted=False):\n",
    "        '''\n",
    "        Predict labels from a set X\n",
    "        '''\n",
    "        X_probs = self.__prob_array(X, verbose=verbose, weighted=weighted)\n",
    "        return self.ensemble_model.predict(X_probs)\n",
    "        \n",
    "    def predict_proba(self, X, weighted=False):\n",
    "        '''\n",
    "        Predict probabilities from a set X\n",
    "        '''\n",
    "        X_probs = self.__prob_array(X, weighted=weighted)\n",
    "        return self.ensemble_model.predict_proba(X_probs)\n",
    "    \n",
    "    def mode_predict(self, X=\"train\"):\n",
    "        '''\n",
    "        Predicts labels of a set by taking the mode of predictions\n",
    "        '''\n",
    "        X = self.__prob_array(X)\n",
    "        X = X.round().astype(int)\n",
    "        pred = stats.mode(X, axis=1)[0]\n",
    "        return pred\n",
    "        \n",
    "    def __prob_array(self, X, weighted=False, verbose=False):\n",
    "        '''\n",
    "        Takes a data set and returns an array of probabilities\n",
    "        \n",
    "        X:         Data\n",
    "        weighted:  True to use weights\n",
    "        '''\n",
    "        if weighted:\n",
    "            weights = self.weights\n",
    "        else:\n",
    "            weights=1.0\n",
    "        if X==\"train\":\n",
    "            return self.stored_probs*weights\n",
    "        elif X==\"test\":\n",
    "            return self.stored_test_probs*weights\n",
    "        num_rows = len(self.__get_features(X, 0))\n",
    "        prob_matrix = np.zeros((num_rows, self.num_models*self.num_labels), dtype='float32')\n",
    "        for index in tqdm_notebook(range(self.num_models), disable=(not verbose)):\n",
    "            if self.num_labels>1:\n",
    "                prob_matrix[:, index:index+self.num_labels] = self.__predict(self.model_list[index], \n",
    "                                                                             self.__get_features(X, index))\n",
    "            else:\n",
    "                prob_matrix[:, index] = self.__predict(self.model_list[index], self.__get_features(X, index))\n",
    "        return prob_matrix*weights\n",
    "        \n",
    "    def __predict(self, model, X):\n",
    "        '''\n",
    "        Returns probability predictions of X by a model.\n",
    "        \n",
    "        If model doesn't allow predicted probabilities, return predictions\n",
    "        '''\n",
    "        if not self.use_probs:\n",
    "            return model.predict(X)\n",
    "        try:\n",
    "            multi_channel = model.predict_proba(X)\n",
    "            if self.num_labels==1:\n",
    "                return np.reshape(multi_channel[:,1:], len(X))\n",
    "            else:\n",
    "                return multi_channel[:,1:]\n",
    "        except:\n",
    "            return model.predict(X)\n",
    "        \n",
    "    def __get_features(self, X, index=None):\n",
    "        '''\n",
    "        If a singleton is input, create a copied list of it\n",
    "        '''\n",
    "        if type(X)==list:\n",
    "            return X[index]\n",
    "        else:\n",
    "            return X"
   ]
  },
  {
   "cell_type": "markdown",
   "metadata": {},
   "source": [
    "![eyeswide](https://media.giphy.com/media/xThta7HUIMJp2SRAdi/giphy.gif)"
   ]
  },
  {
   "cell_type": "markdown",
   "metadata": {},
   "source": [
    "<a id=\"mean\"></a>\n",
    "### Simple mean of probabilities\n",
    "\n",
    "This first ensemble method takes a simple average of each model's predicted probabilities and predicts an outcome for a great 82.6% accuracy on the test set."
   ]
  },
  {
   "cell_type": "code",
   "execution_count": 23,
   "metadata": {},
   "outputs": [
    {
     "name": "stdout",
     "output_type": "stream",
     "text": [
      "A simple model mean has 82.26% accuracy on validation data and 82.6% on test data.\n"
     ]
    }
   ],
   "source": [
    "model_list = [log_model, lgbm_model, svc1_model, svc2_model, xgb_model]\n",
    "X_val_list = [X_val_ord] + [X_val]*4\n",
    "X_test_list = [X_test_ord] + [X_test]*4\n",
    "ensemble = PretrainedCatEnsemble(model_list, LogisticRegressionCV(np.logspace(-5, 5), random_state=5))\n",
    "ensemble.set_data(X_val_list, y_val, X_test_list, y_test)\n",
    "\n",
    "val_preds = ensemble.mean(X=\"train\", weights=\"base\")\n",
    "test_preds = ensemble.mean(X=\"test\", weights=\"base\")\n",
    "val_acc = pct(accuracy_score(y_val, val_preds))\n",
    "test_acc = pct(accuracy_score(y_test, test_preds))\n",
    "print(f\"A simple model mean has {val_acc}% accuracy on validation data and {test_acc}% on test data.\")"
   ]
  },
  {
   "cell_type": "markdown",
   "metadata": {},
   "source": [
    "<a id=\"weighted_mean\"></a>\n",
    "### Weighted mean of probabilities\n",
    "\n",
    "This next method uses a random search to look for a set of weights which maximizes predicted accuracy on the validation set.  True to form, this method provided better accuracy on the test set than the simple mean HOWEVER it did worse on the test set.\n",
    "\n",
    "Interestingly, the weights found prioritize the two SVCs and the logistic regression model heavily over the two ensemble tree models.  This indicates that it may be worth looking into a simple ensemble that just consists of those three models."
   ]
  },
  {
   "cell_type": "code",
   "execution_count": 24,
   "metadata": {},
   "outputs": [
    {
     "name": "stdout",
     "output_type": "stream",
     "text": [
      "A validation set (approximate) maximally weighted mean has 82.47% accuracy on validation data and 82.25% on test data.\n",
      "The approximate maximal mean weights are log_model, lgbm_model, svc1_model, svc2_model, xgb_model, cb_model = (0.55, 0.1, 0.9500000000000001, 0.6000000000000001, 0.05)\n"
     ]
    }
   ],
   "source": [
    "weights, val_acc = ensemble.maximize_weights(random_state=15, n_iter=2500)\n",
    "test_acc = pct(accuracy_score(y_test, ensemble.mean(X=\"test\", weights=\"max\")))\n",
    "print(f\"A validation set (approximate) maximally weighted mean has {pct(val_acc)}% \"+\n",
    "      f\"accuracy on validation data and {test_acc}% on test data.\")\n",
    "print(f\"The approximate maximal mean weights are log_model, lgbm_model, svc1_model, \"+\n",
    "      f\"svc2_model, xgb_model, cb_model = {weights}\")"
   ]
  },
  {
   "cell_type": "markdown",
   "metadata": {},
   "source": [
    "<a id=\"mode\"></a>\n",
    "### Mode of predictions\n",
    "\n",
    "This section just takes the mode of the prediction from all models and manages to pull 82.37% on the test set--showing that sometimes the simplest methods perform well."
   ]
  },
  {
   "cell_type": "code",
   "execution_count": 25,
   "metadata": {},
   "outputs": [
    {
     "name": "stdout",
     "output_type": "stream",
     "text": [
      "Taking the simple mode of model predictions gives 82.26% accuracy on validation data and 82.37% on test data.\n"
     ]
    }
   ],
   "source": [
    "val_preds = ensemble.mode_predict(X=\"train\")\n",
    "test_preds = ensemble.mode_predict(X=\"test\")\n",
    "val_acc = pct(accuracy_score(y_val, val_preds))\n",
    "test_acc = pct(accuracy_score(y_test, test_preds))\n",
    "print(f\"Taking the simple mode of model predictions gives {val_acc}% accuracy on validation data and {test_acc}% on test data.\")"
   ]
  },
  {
   "cell_type": "markdown",
   "metadata": {},
   "source": [
    "<a id=\"logensemble\"></a>\n",
    "### Ensemble with logistic regression\n",
    "\n",
    "The next section uses LogisticRegressionCV to give a quick, tuned label predicted from the individual models.  As with the unweighted mean, this does better on the test set than the training set and pulls a solid 82.58%."
   ]
  },
  {
   "cell_type": "code",
   "execution_count": 26,
   "metadata": {},
   "outputs": [
    {
     "name": "stdout",
     "output_type": "stream",
     "text": [
      "Logistic Regression ensemble model gives 82.4% accuracy on validation data and 82.58% on test data.\n"
     ]
    }
   ],
   "source": [
    "val_preds = ensemble.fit(X_val_list, y_val, return_predictions=True)\n",
    "test_preds = ensemble.predict(X=\"test\")\n",
    "val_acc = pct(accuracy_score(y_val, val_preds))\n",
    "test_acc = pct(accuracy_score(y_test, test_preds))\n",
    "print(f\"Logistic Regression ensemble model gives {val_acc}% accuracy on validation data and {test_acc}% on test data.\")"
   ]
  },
  {
   "cell_type": "markdown",
   "metadata": {},
   "source": [
    "<a id=\"svcensemble\"></a>\n",
    "### Ensemble with SVC\n",
    "\n",
    "This next ensemble is built using an SVC with RBF kernel and it is the best performer of all ensembles with 81.88% on the validation data and 81.81% on the test data.  Interestingly, this accuracy comes from the *untuned* model--which performs better than the model tuned with grid search crossvalidation.  Why this is, I'm not sure--but I suspect it has to do with the 'auto' procedure scikit-learn's SVC algorithm uses to select gamma values.  Including 'auto' in the parameter list along with other gamma values will be standard operating procedure for me next time I tune an SVC."
   ]
  },
  {
   "cell_type": "code",
   "execution_count": 27,
   "metadata": {},
   "outputs": [
    {
     "name": "stdout",
     "output_type": "stream",
     "text": [
      "Model ensembled by untuned SVC with RBF kernel gives 81.88% accuracy on validation data and 81.81% on test data.\n"
     ]
    }
   ],
   "source": [
    "val_preds = ensemble.change_ensemble_method(SVC(kernel=\"rbf\", random_state=4))\n",
    "test_preds = ensemble.predict(X=\"test\")\n",
    "val_acc = pct(accuracy_score(y_val, val_preds))\n",
    "test_acc = pct(accuracy_score(y_test, test_preds))\n",
    "print(f\"Model ensembled by untuned SVC with RBF kernel gives {val_acc}% accuracy \"+\n",
    "      f\"on validation data and {test_acc}% on test data.\")"
   ]
  },
  {
   "cell_type": "code",
   "execution_count": 28,
   "metadata": {},
   "outputs": [
    {
     "name": "stdout",
     "output_type": "stream",
     "text": [
      "The hyperparameters {'C': 1, 'gamma': 10} give a K-fold crossvalidation score of 82.27% on the validation data.\n"
     ]
    }
   ],
   "source": [
    "param_space = {'C': [.001, .01, 1, 10, 100],\n",
    "              'gamma': [.0001, .001, .01, .1, 1, 10]}\n",
    "\n",
    "best_params, score = ensemble.tune_hyperparameters(param_space, method='grid', num_samples=5, n_jobs=-1, return_accuracy=True)\n",
    "print(f\"The hyperparameters {best_params} give a K-fold crossvalidation score of {pct(score)}% on the validation data.\")"
   ]
  },
  {
   "cell_type": "code",
   "execution_count": 29,
   "metadata": {},
   "outputs": [
    {
     "name": "stdout",
     "output_type": "stream",
     "text": [
      "Model ensembled by tuned SVC with RBF kernel gives 82.78% accuracy on validation data and 82.49% on test data.\n"
     ]
    }
   ],
   "source": [
    "val_preds = ensemble.predict(X=\"train\")\n",
    "test_preds = ensemble.predict(X=\"test\")\n",
    "val_acc = pct(accuracy_score(y_val, val_preds))\n",
    "test_acc = pct(accuracy_score(y_test, test_preds))\n",
    "print(f\"Model ensembled by tuned SVC with RBF kernel gives {val_acc}% accuracy \"+\n",
    "      f\"on validation data and {test_acc}% on test data.\")"
   ]
  },
  {
   "cell_type": "markdown",
   "metadata": {},
   "source": [
    "<a id=\"treeensemble\"></a>\n",
    "### Ensemble with decision tree\n",
    "\n",
    "The final ensemble model tested will be a simple decision tree classifier.  A big thing to note here is that the model performed **horribly** untuned but did much better after being tuned.  It was still the worst of all methods even when it was tuned but it at least got into the ballpark of the other ensemble models."
   ]
  },
  {
   "cell_type": "code",
   "execution_count": 30,
   "metadata": {},
   "outputs": [
    {
     "name": "stdout",
     "output_type": "stream",
     "text": [
      "Model ensembled by untuned decision tree gives 100.0% accuracy on validation data and 74.35% on test data.\n"
     ]
    }
   ],
   "source": [
    "val_preds = ensemble.change_ensemble_method(DecisionTreeClassifier(random_state=4))\n",
    "test_preds = ensemble.predict(X=\"test\")\n",
    "val_acc = pct(accuracy_score(y_val, val_preds))\n",
    "test_acc = pct(accuracy_score(y_test, test_preds))\n",
    "print(f\"Model ensembled by untuned decision tree gives {val_acc}% accuracy on validation data and {test_acc}% on test data.\")"
   ]
  },
  {
   "cell_type": "code",
   "execution_count": 31,
   "metadata": {},
   "outputs": [
    {
     "name": "stdout",
     "output_type": "stream",
     "text": [
      "The hyperparameters {'criterion': 'gini', 'max_depth': 26, 'max_features': 'sqrt', 'min_samples_split': 0.01405703022052757, 'min_samples_leaf': 0.012008025058644959, 'splitter': 'random'} give a resample score of 81.9% on the validation data.\n"
     ]
    }
   ],
   "source": [
    "param_space = {'criterion': Categorical(['gini', 'entropy']), \n",
    "              'max_depth':Integer(2, 32),\n",
    "               'max_features': Categorical(['sqrt', 'log2', None]),\n",
    "              'min_samples_split': Real(0.01, 1.00),\n",
    "               'min_samples_leaf': Real(0.01, 0.5),\n",
    "              'splitter': Categorical(['random', 'best'])}\n",
    "\n",
    "ensemble.change_ensemble_method(DecisionTreeClassifier(random_state=4))\n",
    "best_params, score = ensemble.tune_hyperparameters(param_space, method='random-resample', \n",
    "                                                   n_iter=500, sample_size=0.5, num_samples=10, return_accuracy=True)\n",
    "print(f\"The hyperparameters {best_params} give a resample score of {pct(score)}% on the validation data.\")"
   ]
  },
  {
   "cell_type": "code",
   "execution_count": 32,
   "metadata": {},
   "outputs": [
    {
     "name": "stdout",
     "output_type": "stream",
     "text": [
      "Model ensembled by tuned decision tree gives 81.72% accuracy on validation data and 82.28% on test data.\n"
     ]
    }
   ],
   "source": [
    "val_preds = ensemble.predict(X=\"train\")\n",
    "test_preds = ensemble.predict(X=\"test\")\n",
    "val_acc = pct(accuracy_score(y_val, val_preds))\n",
    "test_acc = pct(accuracy_score(y_test, test_preds))\n",
    "print(f\"Model ensembled by tuned decision tree gives {val_acc}% accuracy on validation data and {test_acc}% on test data.\")"
   ]
  },
  {
   "cell_type": "markdown",
   "metadata": {},
   "source": [
    "<a id=\"conclusions\"></a>\n",
    "## Conclusions\n",
    "\n",
    "To reiterate what I said at first, I was fighting soooo hard with this data to get any increase in accuracy.  In a future notebook applying deep learning techniques to this problem, you'll see that this is true in that domain as well.  Most likely, 83% is reaching the maximum predictive information that answers to these personality questions can give us about a person's gender.\n",
    "\n",
    "As for picking a final model, there are really three main winners I can see that each have their own advantages.  The clear ensemble method for accuracy is using SVC with an RBF kernel.  This model gave us better accuracy on the validation and test sets than any other method.  Logistic regression didn't score as high on accuracy, but the value of the calibrated probabilities that logistic regression gives cannot be overstated.  Lastly, the simple probability mean performed very well on the test set and is--by far--the fastest of the three methods.  It's overperformance on the test set compared to the validation set tells me that part of it's performance may be due to luck of the draw when splitting the data and not something inherent to the method itself, though.\n",
    "\n",
    "Honestly, depending on how necessary the extra 3% predictive accuracy it, it may be better to just skip the entire ensemble procedure and just use a single and simple tuned logistic regression model to predict gender.  It's quick, easy, and gives *good enough* predictions on it's own without being stacked.  Also, I really love logistic regression.  Have I said that before?  Because I really. love. logistic. regression.\n",
    "\n",
    "![thumbsup](https://media.giphy.com/media/S1Ap7GTcjToZy/giphy.gif)"
   ]
  }
 ],
 "metadata": {
  "kernelspec": {
   "display_name": "Python 3",
   "language": "python",
   "name": "python3"
  },
  "language_info": {
   "codemirror_mode": {
    "name": "ipython",
    "version": 3
   },
   "file_extension": ".py",
   "mimetype": "text/x-python",
   "name": "python",
   "nbconvert_exporter": "python",
   "pygments_lexer": "ipython3",
   "version": "3.7.3"
  }
 },
 "nbformat": 4,
 "nbformat_minor": 2
}
