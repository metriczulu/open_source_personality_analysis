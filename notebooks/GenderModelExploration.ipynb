{
 "cells": [
  {
   "cell_type": "markdown",
   "metadata": {},
   "source": [
    "# Predicting Gender from Personality Questions"
   ]
  },
  {
   "cell_type": "markdown",
   "metadata": {},
   "source": [
    "This notebook goes through the process of building various simple models to predict gender from the answers on personality questions.  There is a lot of exploration in this notebook--much more so than necessary--to show the variation in performance between the different model types.  The general methodology for this process will be to fit multiple \"standard\" models (of the same model type) and select the best one for parameter tuning and optimization.  This methodology isn't exactly *ideal*, because it is very possible for one of the non-selected models to have the best performance after tuning--but it works *good enough* in most situations.  In a situation where there's a huge cost to misclassification then it would be more appropriate to get into the more extreme edges of model tuning--but this ain't it.\n",
    "\n",
    "In the next notebook, information discovered here will be used with other techniques to build a single good model that predicts gender from personality questions.\n",
    "\n",
    "**Note:** In this exploration, I did not split use a hold-away test set to evaluate the best hyperparameters after tuning.  For this notebook, I was mainly looking to get a feel for which models to use in an ensemble and get a rough estimate of potential max accuracy.  I'm well aware that you cannot use crossvalidation to tune hyperparameters and have the crossvalidation accuracy be a reliable indicator of the actual accuracy of the model.  Said crossval accuracy will, however, give me an approximate upperbound I can expect out of each model because I don't, in general, expect performance to be better on a held-away test set than on the data the hyperparameters were tuned on.  In the next notebook planned (where I actually build the ensemble model), a proper train/test split will be used with *nothing* being done to the models on the test set outside of evaluating accuracy.\n",
    "\n",
    "If you have feedback (positive or negative) for me, I'd love to hear it and would be forever grateful.  Even on the presentation itself--I definitely know my aesthetics definitely need work.  I know that various cells were run out of order but I promise that the entire notebook works from start to finish with no issues.  Running them out-of-order was a workaround for needing to close my laptop to transport it and Jupyter Notebooks not currently allowing output to save to the notebook without notebook open in a browser.\n",
    "\n",
    "## Table of Contents\n",
    "\n",
    "- [Load Data and Libraries](#load_data)\n",
    "- [Data Preparation](#data_prep)\n",
    "- [Logarithmic Regression Models](#log_reg)\n",
    "- [Naive-Bayes Models](#nb)\n",
    "- [Support Vector Machine Models](#svm)\n",
    "- [K-Nearest Neighbors Models](#knn)\n",
    "- [Ensemble Decision Tree Models](#trees)\n",
    "- [Conclusions](#conclusion)"
   ]
  },
  {
   "cell_type": "markdown",
   "metadata": {},
   "source": [
    "<a id=\"load_data\"></a>\n",
    "## Load Data and Install Necessary Libraries"
   ]
  },
  {
   "cell_type": "code",
   "execution_count": 2,
   "metadata": {},
   "outputs": [
    {
     "data": {
      "text/html": [
       "<div>\n",
       "<style scoped>\n",
       "    .dataframe tbody tr th:only-of-type {\n",
       "        vertical-align: middle;\n",
       "    }\n",
       "\n",
       "    .dataframe tbody tr th {\n",
       "        vertical-align: top;\n",
       "    }\n",
       "\n",
       "    .dataframe thead th {\n",
       "        text-align: right;\n",
       "    }\n",
       "</style>\n",
       "<table border=\"1\" class=\"dataframe\">\n",
       "  <thead>\n",
       "    <tr style=\"text-align: right;\">\n",
       "      <th></th>\n",
       "      <th>A1</th>\n",
       "      <th>A2</th>\n",
       "      <th>A3</th>\n",
       "      <th>A4</th>\n",
       "      <th>A5</th>\n",
       "      <th>A6</th>\n",
       "      <th>A7</th>\n",
       "      <th>A8</th>\n",
       "      <th>A9</th>\n",
       "      <th>A10</th>\n",
       "      <th>...</th>\n",
       "      <th>gender</th>\n",
       "      <th>accuracy</th>\n",
       "      <th>country</th>\n",
       "      <th>source</th>\n",
       "      <th>elapsed</th>\n",
       "      <th>sqrtbox_age</th>\n",
       "      <th>box_accuracy</th>\n",
       "      <th>box_elapsed</th>\n",
       "      <th>bin_age</th>\n",
       "      <th>bin_country</th>\n",
       "    </tr>\n",
       "  </thead>\n",
       "  <tbody>\n",
       "    <tr>\n",
       "      <th>0</th>\n",
       "      <td>1</td>\n",
       "      <td>4</td>\n",
       "      <td>2</td>\n",
       "      <td>3</td>\n",
       "      <td>3</td>\n",
       "      <td>2</td>\n",
       "      <td>3</td>\n",
       "      <td>4</td>\n",
       "      <td>4</td>\n",
       "      <td>3</td>\n",
       "      <td>...</td>\n",
       "      <td>1</td>\n",
       "      <td>92</td>\n",
       "      <td>US</td>\n",
       "      <td>5</td>\n",
       "      <td>914</td>\n",
       "      <td>1.683215</td>\n",
       "      <td>2.270186</td>\n",
       "      <td>9.774004</td>\n",
       "      <td>0</td>\n",
       "      <td>US</td>\n",
       "    </tr>\n",
       "    <tr>\n",
       "      <th>1</th>\n",
       "      <td>4</td>\n",
       "      <td>3</td>\n",
       "      <td>4</td>\n",
       "      <td>3</td>\n",
       "      <td>4</td>\n",
       "      <td>4</td>\n",
       "      <td>4</td>\n",
       "      <td>4</td>\n",
       "      <td>2</td>\n",
       "      <td>2</td>\n",
       "      <td>...</td>\n",
       "      <td>1</td>\n",
       "      <td>100</td>\n",
       "      <td>US</td>\n",
       "      <td>0</td>\n",
       "      <td>891</td>\n",
       "      <td>1.900242</td>\n",
       "      <td>2.287068</td>\n",
       "      <td>9.723672</td>\n",
       "      <td>4</td>\n",
       "      <td>US</td>\n",
       "    </tr>\n",
       "    <tr>\n",
       "      <th>2</th>\n",
       "      <td>3</td>\n",
       "      <td>4</td>\n",
       "      <td>4</td>\n",
       "      <td>4</td>\n",
       "      <td>4</td>\n",
       "      <td>4</td>\n",
       "      <td>4</td>\n",
       "      <td>3</td>\n",
       "      <td>2</td>\n",
       "      <td>2</td>\n",
       "      <td>...</td>\n",
       "      <td>1</td>\n",
       "      <td>80</td>\n",
       "      <td>US</td>\n",
       "      <td>5</td>\n",
       "      <td>903</td>\n",
       "      <td>1.853102</td>\n",
       "      <td>2.240760</td>\n",
       "      <td>9.750076</td>\n",
       "      <td>3</td>\n",
       "      <td>US</td>\n",
       "    </tr>\n",
       "    <tr>\n",
       "      <th>3</th>\n",
       "      <td>4</td>\n",
       "      <td>5</td>\n",
       "      <td>4</td>\n",
       "      <td>4</td>\n",
       "      <td>4</td>\n",
       "      <td>3</td>\n",
       "      <td>3</td>\n",
       "      <td>2</td>\n",
       "      <td>2</td>\n",
       "      <td>2</td>\n",
       "      <td>...</td>\n",
       "      <td>1</td>\n",
       "      <td>93</td>\n",
       "      <td>US</td>\n",
       "      <td>0</td>\n",
       "      <td>806</td>\n",
       "      <td>1.861649</td>\n",
       "      <td>2.272403</td>\n",
       "      <td>9.526909</td>\n",
       "      <td>3</td>\n",
       "      <td>US</td>\n",
       "    </tr>\n",
       "    <tr>\n",
       "      <th>4</th>\n",
       "      <td>4</td>\n",
       "      <td>0</td>\n",
       "      <td>4</td>\n",
       "      <td>4</td>\n",
       "      <td>4</td>\n",
       "      <td>3</td>\n",
       "      <td>5</td>\n",
       "      <td>1</td>\n",
       "      <td>2</td>\n",
       "      <td>4</td>\n",
       "      <td>...</td>\n",
       "      <td>2</td>\n",
       "      <td>87</td>\n",
       "      <td>NZ</td>\n",
       "      <td>0</td>\n",
       "      <td>1826</td>\n",
       "      <td>1.956691</td>\n",
       "      <td>2.258593</td>\n",
       "      <td>11.190933</td>\n",
       "      <td>4</td>\n",
       "      <td>Other</td>\n",
       "    </tr>\n",
       "  </tbody>\n",
       "</table>\n",
       "<p>5 rows × 174 columns</p>\n",
       "</div>"
      ],
      "text/plain": [
       "   A1  A2  A3  A4  A5  A6  A7  A8  A9  A10     ...       gender  accuracy  \\\n",
       "0   1   4   2   3   3   2   3   4   4    3     ...            1        92   \n",
       "1   4   3   4   3   4   4   4   4   2    2     ...            1       100   \n",
       "2   3   4   4   4   4   4   4   3   2    2     ...            1        80   \n",
       "3   4   5   4   4   4   3   3   2   2    2     ...            1        93   \n",
       "4   4   0   4   4   4   3   5   1   2    4     ...            2        87   \n",
       "\n",
       "   country  source  elapsed  sqrtbox_age  box_accuracy  box_elapsed  bin_age  \\\n",
       "0       US       5      914     1.683215      2.270186     9.774004        0   \n",
       "1       US       0      891     1.900242      2.287068     9.723672        4   \n",
       "2       US       5      903     1.853102      2.240760     9.750076        3   \n",
       "3       US       0      806     1.861649      2.272403     9.526909        3   \n",
       "4       NZ       0     1826     1.956691      2.258593    11.190933        4   \n",
       "\n",
       "   bin_country  \n",
       "0           US  \n",
       "1           US  \n",
       "2           US  \n",
       "3           US  \n",
       "4        Other  \n",
       "\n",
       "[5 rows x 174 columns]"
      ]
     },
     "execution_count": 2,
     "metadata": {},
     "output_type": "execute_result"
    }
   ],
   "source": [
    "import pandas as pd\n",
    "import numpy as np\n",
    "import matplotlib.pyplot as plt\n",
    "import seaborn as sns\n",
    "from tqdm import tqdm_notebook\n",
    "import time\n",
    "%matplotlib inline\n",
    "\n",
    "df = pd.read_csv('data_trans.csv', encoding='utf-8')\n",
    "df.head()"
   ]
  },
  {
   "cell_type": "markdown",
   "metadata": {},
   "source": [
    "<a id=\"data_prep\"></a>\n",
    "## Data Preparation"
   ]
  },
  {
   "cell_type": "markdown",
   "metadata": {},
   "source": [
    "### Remove Invalid Data\n",
    "\n",
    "As we removed all rows that had invalid data in the feature (personality questions) columns in the EDA phase, we only need to remove invalid data in the target variable (gender).  From the variable descriptions, any gender represented by 0 means that no answer was provided so they'll be absolutely no help to us (obvi).  It should be noted that the features all exist on the same scale and thus don't need to be scaled or normalized to avoid one feature overpowering other features in the model."
   ]
  },
  {
   "cell_type": "code",
   "execution_count": 3,
   "metadata": {},
   "outputs": [
    {
     "name": "stdout",
     "output_type": "stream",
     "text": [
      "\n",
      "Total rows of data: 48779\n",
      "\n",
      "Number of rows remaining after deleting 'no answer' genders: 48543\n",
      "\n",
      "Total number of rows removed: 236\n",
      "\n",
      "Value counts for gender: \n",
      "2    29046\n",
      "1    19227\n",
      "3      270\n",
      "Name: gender, dtype: int64\n",
      "\n",
      "Women as a pct of total data: 0.5983560966565725\n",
      "\n",
      "Men as a pct of total data: 0.3960818243619059\n",
      "\n",
      "Non-binary as a pct of total data: 0.0055620789815215375\n"
     ]
    }
   ],
   "source": [
    "df.gender.value_counts(dropna=False)\n",
    "og_count = df.shape[0]\n",
    "print('\\nTotal rows of data: '+str(og_count))\n",
    "df = df[df.gender!=0]\n",
    "new_count = df.shape[0]\n",
    "print(\"\\nNumber of rows remaining after deleting 'no answer' genders: \"+str(new_count))\n",
    "print(\"\\nTotal number of rows removed: \"+str(og_count-new_count))\n",
    "print(\"\\nValue counts for gender: \")\n",
    "values = df.gender.value_counts()\n",
    "print(values)\n",
    "print(\"\\nWomen as a pct of total data: \"+str(values[2]/new_count))\n",
    "print(\"\\nMen as a pct of total data: \"+str(values[1]/new_count))\n",
    "print(\"\\nNon-binary as a pct of total data: \"+str(values[3]/new_count))"
   ]
  },
  {
   "cell_type": "markdown",
   "metadata": {},
   "source": [
    "As seen in the EDA, this data is pretty imbalanced with a lot of data on women (about 60% of the total) and very, very, very few non-binary genders (about 0.5% total).  This will really limit the ability of our models to predict non-binary gender."
   ]
  },
  {
   "cell_type": "markdown",
   "metadata": {},
   "source": [
    "### Simplifying the Data"
   ]
  },
  {
   "cell_type": "markdown",
   "metadata": {},
   "source": [
    "The models will be evaluated using stratified k-fold crossvalidation.  We will drop binary gender for now and treat this as a binary classification problem.  Later on we will work to expand the results and see if we can make useful predictions for whether someone is non-binary or not, too."
   ]
  },
  {
   "cell_type": "code",
   "execution_count": 4,
   "metadata": {},
   "outputs": [],
   "source": [
    "rando_seed = 17\n",
    "\n",
    "non_features = ['age', 'accuracy', 'elapsed', 'gender', 'source', 'country',\n",
    "               'sqrtbox_age', 'box_accuracy', 'box_elapsed', 'bin_age', 'bin_country']\n",
    "\n",
    "# create a copy dataset but drop all non-binary genders (which makes it a binary classification problem)\n",
    "# re-code binary variables to be 0/1 instead of 1/2\n",
    "X = df.drop(non_features, axis=1)\n",
    "y = df.gender\n",
    "X = X[y>0]\n",
    "y = y[y>0]\n",
    "X_bi = X[y<3]\n",
    "y_bi = y[y<3]\n",
    "y_bi = y_bi-1\n"
   ]
  },
  {
   "cell_type": "code",
   "execution_count": 5,
   "metadata": {},
   "outputs": [
    {
     "name": "stdout",
     "output_type": "stream",
     "text": [
      "Distribution of binary target variable: \n"
     ]
    },
    {
     "data": {
      "text/plain": [
       "1    29046\n",
       "0    19227\n",
       "Name: gender, dtype: int64"
      ]
     },
     "execution_count": 5,
     "metadata": {},
     "output_type": "execute_result"
    }
   ],
   "source": [
    "print('Distribution of binary target variable: ')\n",
    "y_bi.value_counts()"
   ]
  },
  {
   "cell_type": "code",
   "execution_count": 6,
   "metadata": {},
   "outputs": [
    {
     "name": "stdout",
     "output_type": "stream",
     "text": [
      "Total number of data points: 48273\n"
     ]
    }
   ],
   "source": [
    "print(f\"Total number of data points: {str(len(X_bi))}\")"
   ]
  },
  {
   "cell_type": "markdown",
   "metadata": {},
   "source": [
    "### Heavily Used Functions for this Notebook\n",
    "Below are a couple function I'm going to use to make this analysis more streamlined and effective.  Instead of using sklearn's cross_val_score function to estimate crossvalidation accuracy, I'll be using a custom function which does the same thing but will allow me to include multiple metrics as well as return the accuracy scores for the training data for each fold (as opposed to just the test accuracy for each fold).  Getting the training accuracy of the models as well as the test accuracy will allow me to get an indication of whether overfitting is inherent in the model being fit or not."
   ]
  },
  {
   "cell_type": "code",
   "execution_count": 7,
   "metadata": {},
   "outputs": [],
   "source": [
    "from sklearn.metrics import classification_report, accuracy_score, roc_auc_score, f1_score, precision_score, recall_score\n",
    "from sklearn.model_selection import StratifiedKFold\n",
    "\n",
    "#sklearn kind of sucks and puts out a lot of metric warnings--especially when you have an extreme minority class that may\n",
    "#not get predicted.\n",
    "def warn(*args, **kwargs):\n",
    "    pass\n",
    "import warnings\n",
    "warnings.warn = warn\n",
    "\n",
    "rando_seed = 17\n",
    "\n",
    "bold = \"\\033[1m\"\n",
    "reset = \"\\033[0;0m\"\n",
    "\n",
    "def bold_print(string):\n",
    "    print(bold+string+reset)\n",
    "\n",
    "def train_and_report(model, n_folds=5, X=X_bi, y=y_bi):\n",
    "    t0 = time.time()\n",
    "    test_metrics = strat_kfold(model, X, y, num_folds=n_folds, random_state=rando_seed)\n",
    "    t1 = time.time()\n",
    "    print(\"\\nAverage crossval scores for best model: \")\n",
    "    print(model_eval(test_metrics))\n",
    "    timed = round((t1-t0)/n_folds, 2)\n",
    "    print(f\"\\nTime to train model on each fold was {timed} seconds average.\")\n",
    "\n",
    "def metric_report(x_vals, y_vals, model, auc=False):\n",
    "    '''\n",
    "    Prints a quick snapshot of the accuracy of a model on a particular dataset.\n",
    "    \n",
    "    param x_vals:  The model input variables\n",
    "    param y_vals:  The model label variable\n",
    "    param model:   The model itself\n",
    "    param auc:     If true, calculate area under ROC\n",
    "    '''\n",
    "    y_pred = model.predict(x_vals)\n",
    "    print(\"Accuracy score: \"+str(accuracy_score(y_vals, y_pred)))\n",
    "    print(\"\\nClassification report: \")\n",
    "    print(classification_report(y_vals, y_pred))\n",
    "    if auc:\n",
    "        print(\"Area under ROC: \"+str(roc_auc_score(y_vals, y_pred)))\n",
    "\n",
    "def strat_kfold(model, x_vals, y_vals, num_folds=5, metrics=None, random_state=None, \n",
    "                df_columns=None, train_metrics=False, fit_kwargs={}, predict_kwargs={},\n",
    "                verbose=False):\n",
    "    '''\n",
    "    Custom stratified k-fold function.  Functions the same as most stratified k-fold methods but will\n",
    "        return a list of metrics instead of just the one that sklearn returns.\n",
    "    \n",
    "    param model:        The model itself\n",
    "    param x_vals:       The model input variables\n",
    "    param y_vals:       The model label variable\n",
    "    param num_folds:    Number of folds to use\n",
    "    param metrics:      A list of functions used to calculate whatever metrics you want.  Function\n",
    "                            must take only X and y values and return a number.  If None, defaults to\n",
    "                            accuracy and F1 score\n",
    "    param random_state: Random seed\n",
    "    param df_columns:   The names of the custom metrics used.  If no df_column given, entire function returns\n",
    "                            a numpy array.  If column names are given, returns a pandas DataFrame.\n",
    "    param train_metrics:If True, returns the accuracy metrics for the training set and the testing set for each fold.\n",
    "                            If False, returns just the accuracy of the testing set for each fold.\n",
    "    param verbose:      If True, prints a progress bar that counts each fold.\n",
    "    \n",
    "    Returns:            Either a numpy array or dataframe with dimensions - (number of folds, number of metrics)\n",
    "                            Each column represents a model metric and each row represents a given fold.  If\n",
    "                            train_metrics=True, returns two such array/DFs: one for the training set of each fold and\n",
    "                            one for the testing set of each fold.\n",
    "    '''\n",
    "    folds = StratifiedKFold(num_folds, random_state=random_state)\n",
    "    if not metrics:\n",
    "        if not df_columns:\n",
    "            df_columns = ['Accuracy', 'F1']\n",
    "        metrics=[accuracy_score, f1_score]\n",
    "    num_metrics = len(metrics)\n",
    "    metric_grid_train = np.zeros((num_folds, num_metrics))\n",
    "    metric_grid_test = np.zeros((num_folds, num_metrics))\n",
    "    current_fold = 0\n",
    "    for train, test in tqdm_notebook(folds.split(x_vals, y_vals), disable=(not verbose)):\n",
    "        x_train, x_test = x_vals.iloc[train], x_vals.iloc[test]\n",
    "        y_train, y_test = y_vals.iloc[train], y_vals.iloc[test]\n",
    "        clf = model.fit(x_train, y_train)\n",
    "        y_train_pred = clf.predict(x_train)\n",
    "        y_test_pred = clf.predict(x_test)\n",
    "        for metric_index in range(num_metrics):\n",
    "            metric=metrics[metric_index]\n",
    "            metric_grid_train[current_fold][metric_index] = metric(y_train, y_train_pred)\n",
    "            metric_grid_test[current_fold][metric_index] = metric(y_test, y_test_pred)\n",
    "        current_fold+=1\n",
    "    if df_columns:\n",
    "        metric_grid_train = pd.DataFrame(metric_grid_train, columns=df_columns)\n",
    "        metric_grid_test = pd.DataFrame(metric_grid_test, columns=df_columns)           \n",
    "    if train_metrics:\n",
    "        return metric_grid_train, metric_grid_test\n",
    "    else:\n",
    "        return metric_grid_test\n",
    "\n",
    "def avg_kfold_metrics(metric_grid, return_tuple=False):\n",
    "    '''\n",
    "    Quick function to average columns and give an overall estimate for the k-fold grid output of strat_kfold\n",
    "    \n",
    "    Takes a metric_grid output from the strat_kfold function and calculates the average for each metric for each fold\n",
    "    '''\n",
    "    if return_tuple:\n",
    "        return tuple(np.mean(metric_grid, axis=0))\n",
    "    else:\n",
    "        return np.mean(metric_grid, axis=0)\n",
    "\n",
    "def std_kfold_metrics(metric_grid, return_tuple=False):\n",
    "    '''\n",
    "    Quick function to calculate standard deviation of columns and give an overall \n",
    "    estimate for the k-fold grid output of strat_kfold\n",
    "    \n",
    "    Takes a metric_grid output from the strat_kfold function and calculates the standard deviation for each metric for each fold\n",
    "    '''\n",
    "    if return_tuple:\n",
    "        return tuple(np.std(metric_grid, axis=0))\n",
    "    else:\n",
    "        return np.std(metric_grid, axis=0)\n",
    "\n",
    "def model_eval(metric_grid, name=None):\n",
    "    '''\n",
    "    Quick function to combine the avg- and std-kfold metric functions and make it look pretty\n",
    "    '''\n",
    "    if name:\n",
    "        col_names = [name+\" AVG\", name+\" STD\"]\n",
    "    else:\n",
    "        col_names = [\"AVG\", \"STD\"]\n",
    "    avg_c = avg_kfold_metrics(metric_grid)\n",
    "    std_c = std_kfold_metrics(metric_grid)\n",
    "    new = pd.concat([avg_c.rename(col_names[0]), std_c.rename(col_names[1])], axis=1)\n",
    "    return new\n",
    "\n",
    "def train_test_eval(train_grid, test_grid, name=None):\n",
    "    '''\n",
    "    Quick function to print a super pretty model_eval for train and test kfold grids together\n",
    "    '''\n",
    "    bold_print(\"\\n\\nTraining crossvalidation metrics average: \")\n",
    "    print(model_eval(train_metrics))\n",
    "    bold_print(\"\\n\\nTesting crossvalidation metrics average: \")\n",
    "    print(model_eval(test_metrics))"
   ]
  },
  {
   "cell_type": "markdown",
   "metadata": {},
   "source": [
    "![DAB!](https://purepng.com/public/uploads/thumbnail/purepng.com-fortnite-dabfortnitefortnite-battle-royalebattle-royaleepic-gamesgames-1251525434679cpsea.png)"
   ]
  },
  {
   "cell_type": "markdown",
   "metadata": {},
   "source": [
    "<a id=\"log_reg\"></a>\n",
    "## Logistic Regression\n",
    "\n",
    "The first few models built will be logistic regression models.  Logistic regression is one of my favorite methods for binary classification--it's quick and easy, there aren't too many hyperparameters to tune and it usually gives \"good enough\" results.  Another positive is that the predicted probabilities are usually well-calibrated."
   ]
  },
  {
   "cell_type": "markdown",
   "metadata": {},
   "source": [
    "### Logistic Regression with Default Params"
   ]
  },
  {
   "cell_type": "code",
   "execution_count": 8,
   "metadata": {},
   "outputs": [
    {
     "name": "stdout",
     "output_type": "stream",
     "text": [
      "\u001b[1m\n",
      "\n",
      "Training crossvalidation metrics average: \u001b[0;0m\n",
      "               AVG       STD\n",
      "Accuracy  0.803622  0.001489\n",
      "F1        0.840781  0.001140\n",
      "\u001b[1m\n",
      "\n",
      "Testing crossvalidation metrics average: \u001b[0;0m\n",
      "               AVG       STD\n",
      "Accuracy  0.801628  0.006167\n",
      "F1        0.839175  0.005369\n"
     ]
    }
   ],
   "source": [
    "from sklearn.linear_model import LogisticRegression\n",
    "\n",
    "clf = LogisticRegression(random_state=rando_seed)\n",
    "train_metrics, test_metrics = strat_kfold(clf, X_bi, y_bi, train_metrics=True, random_state=rando_seed)\n",
    "train_test_eval(train_metrics, test_metrics)"
   ]
  },
  {
   "cell_type": "markdown",
   "metadata": {},
   "source": [
    "### Logistic Regression with a cost function weighted by counts of each label"
   ]
  },
  {
   "cell_type": "code",
   "execution_count": 9,
   "metadata": {},
   "outputs": [
    {
     "name": "stdout",
     "output_type": "stream",
     "text": [
      "\u001b[1m\n",
      "\n",
      "Training crossvalidation metrics average: \u001b[0;0m\n",
      "               AVG       STD\n",
      "Accuracy  0.797558  0.001528\n",
      "F1        0.825820  0.001379\n",
      "\u001b[1m\n",
      "\n",
      "Testing crossvalidation metrics average: \u001b[0;0m\n",
      "               AVG       STD\n",
      "Accuracy  0.794813  0.006572\n",
      "F1        0.823369  0.006579\n"
     ]
    }
   ],
   "source": [
    "clf = LogisticRegression(class_weight='balanced', random_state=rando_seed)\n",
    "train_metrics, test_metrics = strat_kfold(clf, X_bi, y_bi, train_metrics=True, random_state=rando_seed)\n",
    "train_test_eval(train_metrics, test_metrics)"
   ]
  },
  {
   "cell_type": "markdown",
   "metadata": {},
   "source": [
    "### Tuning Logistic Regression"
   ]
  },
  {
   "cell_type": "markdown",
   "metadata": {},
   "source": [
    "We will tune the C parameter and the weighting scheme of the logistic regression model in that order.  There are two *main* methods for optimizing hyperparameters:  grid search and random search.  Grid search iterates every hyperparameter over a given range of values and selects the parameters from the list that return the highest accuracy (or any other metric you want to use). For the simpler models that train quickly (like logistic regression), grid search will be used."
   ]
  },
  {
   "cell_type": "code",
   "execution_count": 10,
   "metadata": {},
   "outputs": [
    {
     "name": "stdout",
     "output_type": "stream",
     "text": [
      "\u001b[1mBest hyperparameters found: \u001b[0;0m\n",
      "{'C': 0.2, 'max_iter': 50, 'penalty': 'l1', 'solver': 'saga'}\n"
     ]
    }
   ],
   "source": [
    "from sklearn.model_selection import GridSearchCV\n",
    "\n",
    "base_C = list(np.arange(0.2, 4, 0.2))\n",
    "base_iter = list(range(50, 300, 50))\n",
    "param_grid = {'C': base_C, 'penalty': ['l1', 'l2'], 'solver': ['liblinear', 'saga'],\n",
    "             'max_iter': base_iter}\n",
    "grid = GridSearchCV(LogisticRegression(random_state=rando_seed), param_grid, cv=5, n_jobs=-1)\n",
    "grid.fit(X_bi, y_bi)\n",
    "log_best_params = grid.best_params_\n",
    "bold_print(\"Best hyperparameters found: \")\n",
    "print(log_best_params)"
   ]
  },
  {
   "cell_type": "markdown",
   "metadata": {},
   "source": [
    "Below, instead of using the \"balanced\" weight a search is done by varying the weights themselves.  In other projects I've had some interesting (and preferable) results on binary classification problems by allowing the weight of one label to range from small-ish (0.1 and above) to large-ish (20 or so) while the other remains constant.  Both the data and model type (log reg) are relatively un-extraordinary so I'm not expecting to need those extremes here."
   ]
  },
  {
   "cell_type": "code",
   "execution_count": 11,
   "metadata": {},
   "outputs": [
    {
     "data": {
      "application/vnd.jupyter.widget-view+json": {
       "model_id": "9d900a31c18349ff95d6c9b8b9bc2ebf",
       "version_major": 2,
       "version_minor": 0
      },
      "text/plain": [
       "HBox(children=(IntProgress(value=0, max=40), HTML(value='')))"
      ]
     },
     "metadata": {},
     "output_type": "display_data"
    },
    {
     "name": "stdout",
     "output_type": "stream",
     "text": [
      "\n",
      "\n",
      "\n",
      "It took 441.57 seconds to complete this search.\n"
     ]
    }
   ],
   "source": [
    "increment = 0\n",
    "base = []\n",
    "acc = []\n",
    "f1 = []\n",
    "t0 = time.time()\n",
    "for num in tqdm_notebook(range(40)):\n",
    "    increment+=0.1\n",
    "    clf = LogisticRegression(**log_best_params, \n",
    "                             class_weight={0: 1, 1: increment}, random_state=rando_seed)\n",
    "    test_grid = strat_kfold(clf, X_bi, y_bi, num_folds=3, random_state=rando_seed)\n",
    "    acc_, f1_ = avg_kfold_metrics(test_grid, return_tuple=True)\n",
    "    base.append(increment)\n",
    "    acc.append(acc_)\n",
    "    f1.append(f1_)\n",
    "t1 = time.time()\n",
    "print(f\"\\n\\nIt took {round(t1-t0, 2)} seconds to complete this search.\")"
   ]
  },
  {
   "cell_type": "code",
   "execution_count": 12,
   "metadata": {},
   "outputs": [
    {
     "data": {
      "image/png": "[encoded data removed]",
      "text/plain": [
       "<Figure size 720x576 with 1 Axes>"
      ]
     },
     "metadata": {},
     "output_type": "display_data"
    }
   ],
   "source": [
    "plt.figure(figsize=(10,8))\n",
    "plt.plot(base, acc, linewidth=2, marker='o')\n",
    "plt.plot(base, f1, linewidth=2, marker='o')\n",
    "plt.legend(['ACCURACY', 'F1'], loc='upperright')\n",
    "plt.title('ACCURACY and F1 vs CLASS WEIGHT MULTIPLIER')\n",
    "plt.show;"
   ]
  },
  {
   "cell_type": "markdown",
   "metadata": {},
   "source": [
    "Judging by the graph, the maximum accuracy is reached around a multiplier of 0.9 and the maximum F1 score is reached around a multiplier around 1.1 or so.  Based on this, a weight multiplier of 1.0 seems a pretty fair medium.  This is consistent with the two untuned models generated, wherein the model trained with 'balanced\" class weights performed *worse* than the simple model with a 1:1 label weight ratio."
   ]
  },
  {
   "cell_type": "code",
   "execution_count": 13,
   "metadata": {},
   "outputs": [
    {
     "name": "stdout",
     "output_type": "stream",
     "text": [
      "\n",
      "Average crossval scores for best model: \n",
      "               AVG       STD\n",
      "Accuracy  0.801939  0.006362\n",
      "F1        0.839441  0.005511\n",
      "\n",
      "Time to train model on each fold was 1.84 seconds average.\n"
     ]
    }
   ],
   "source": [
    "logbest = LogisticRegression(**log_best_params, random_state=rando_seed)\n",
    "train_and_report(logbest, 5, X_bi, y_bi)"
   ]
  },
  {
   "cell_type": "markdown",
   "metadata": {},
   "source": [
    "This tuned model is literally super mega slightly better than the first one with no tuning.  Totes worth it!"
   ]
  },
  {
   "cell_type": "markdown",
   "metadata": {},
   "source": [
    "<a id=\"nb\"></a>\n",
    "## Naive-Bayes Classifier\n",
    "\n",
    "Due to the imbalance of gender in our dataset, my intuition tells me that using a complement Naive-Bayes model will give the best results.  Despite this, Naive-Bayes methods in general are extremely fast to train so there's really no reason not to train the whole gamut of Naive-Bayes models just to see.\n",
    "\n",
    "### Complement Naive-Bayes"
   ]
  },
  {
   "cell_type": "code",
   "execution_count": 14,
   "metadata": {},
   "outputs": [
    {
     "name": "stdout",
     "output_type": "stream",
     "text": [
      "\u001b[1m\n",
      "\n",
      "Training crossvalidation metrics average: \u001b[0;0m\n",
      "               AVG       STD\n",
      "Accuracy  0.709807  0.001796\n",
      "F1        0.747301  0.001808\n",
      "\u001b[1m\n",
      "\n",
      "Testing crossvalidation metrics average: \u001b[0;0m\n",
      "               AVG       STD\n",
      "Accuracy  0.708471  0.007372\n",
      "F1        0.746041  0.008385\n"
     ]
    }
   ],
   "source": [
    "from sklearn.naive_bayes import GaussianNB, MultinomialNB, BernoulliNB, ComplementNB\n",
    "\n",
    "clf = ComplementNB()\n",
    "train_metrics, test_metrics = strat_kfold(clf, X_bi, y_bi, train_metrics=True, random_state=rando_seed)\n",
    "train_test_eval(train_metrics, test_metrics)"
   ]
  },
  {
   "cell_type": "markdown",
   "metadata": {},
   "source": [
    "### Multinomial Naive-Bayes"
   ]
  },
  {
   "cell_type": "code",
   "execution_count": 15,
   "metadata": {},
   "outputs": [
    {
     "name": "stdout",
     "output_type": "stream",
     "text": [
      "\u001b[1m\n",
      "\n",
      "Training crossvalidation metrics average: \u001b[0;0m\n",
      "               AVG       STD\n",
      "Accuracy  0.721071  0.001754\n",
      "F1        0.769839  0.001637\n",
      "\u001b[1m\n",
      "\n",
      "Testing crossvalidation metrics average: \u001b[0;0m\n",
      "               AVG       STD\n",
      "Accuracy  0.719947  0.005861\n",
      "F1        0.768791  0.006472\n"
     ]
    }
   ],
   "source": [
    "clf = MultinomialNB()\n",
    "train_metrics, test_metrics = strat_kfold(clf, X_bi, y_bi, train_metrics=True, random_state=rando_seed)\n",
    "train_test_eval(train_metrics, test_metrics)"
   ]
  },
  {
   "cell_type": "markdown",
   "metadata": {},
   "source": [
    "### Gaussian Naive-Bayes"
   ]
  },
  {
   "cell_type": "code",
   "execution_count": 16,
   "metadata": {},
   "outputs": [
    {
     "name": "stdout",
     "output_type": "stream",
     "text": [
      "\u001b[1m\n",
      "\n",
      "Training crossvalidation metrics average: \u001b[0;0m\n",
      "               AVG       STD\n",
      "Accuracy  0.710822  0.001465\n",
      "F1        0.759459  0.001363\n",
      "\u001b[1m\n",
      "\n",
      "Testing crossvalidation metrics average: \u001b[0;0m\n",
      "               AVG       STD\n",
      "Accuracy  0.710708  0.004440\n",
      "F1        0.759195  0.006217\n"
     ]
    }
   ],
   "source": [
    "clf = GaussianNB()\n",
    "train_metrics, test_metrics = strat_kfold(clf, X_bi, y_bi, train_metrics=True, random_state=rando_seed)\n",
    "train_test_eval(train_metrics, test_metrics)"
   ]
  },
  {
   "cell_type": "markdown",
   "metadata": {},
   "source": [
    "### Bernoulli Naive-Bayes"
   ]
  },
  {
   "cell_type": "code",
   "execution_count": 17,
   "metadata": {},
   "outputs": [
    {
     "name": "stdout",
     "output_type": "stream",
     "text": [
      "\u001b[1m\n",
      "\n",
      "Training crossvalidation metrics average: \u001b[0;0m\n",
      "               AVG       STD\n",
      "Accuracy  0.597083  0.000443\n",
      "F1        0.739546  0.000431\n",
      "\u001b[1m\n",
      "\n",
      "Testing crossvalidation metrics average: \u001b[0;0m\n",
      "               AVG       STD\n",
      "Accuracy  0.594825  0.003285\n",
      "F1        0.737995  0.002651\n"
     ]
    }
   ],
   "source": [
    "X_bi_dummies = pd.get_dummies(X_bi)\n",
    "\n",
    "clf = BernoulliNB()\n",
    "train_metrics, test_metrics = strat_kfold(clf, X_bi_dummies, y_bi, train_metrics=True, random_state=rando_seed)\n",
    "train_test_eval(train_metrics, test_metrics)"
   ]
  },
  {
   "cell_type": "markdown",
   "metadata": {},
   "source": [
    "So yeah, complement Naive-Bayes didn't work better than the other Naive-Bayes methods.  Multinomial worked the best with all other methods coming in close behind.  All methods exhibit minimal overfitting and trained fast--unfortunately, their performance is weak, too, so speed doesn't really matter.\n",
    "\n",
    "### Tuning the Multinomial Naive-Bayes Model"
   ]
  },
  {
   "cell_type": "code",
   "execution_count": 18,
   "metadata": {},
   "outputs": [
    {
     "name": "stdout",
     "output_type": "stream",
     "text": [
      "\u001b[1mBest hyperparameters found: \u001b[0;0m\n",
      "{'alpha': 0.25}\n"
     ]
    }
   ],
   "source": [
    "base = list(np.arange(0.0, 1, 0.05))\n",
    "param_grid = {'alpha': base}\n",
    "grid = GridSearchCV(MultinomialNB(), param_grid, cv=5)\n",
    "grid.fit(X_bi, y_bi)\n",
    "nb_best_params = grid.best_params_\n",
    "bold_print(\"Best hyperparameters found: \")\n",
    "print(nb_best_params)"
   ]
  },
  {
   "cell_type": "code",
   "execution_count": 19,
   "metadata": {},
   "outputs": [
    {
     "name": "stdout",
     "output_type": "stream",
     "text": [
      "\n",
      "Average crossval scores for best model: \n",
      "               AVG       STD\n",
      "Accuracy  0.719947  0.005861\n",
      "F1        0.768791  0.006472\n",
      "\n",
      "Time to train model on each fold was 0.16 seconds average.\n"
     ]
    }
   ],
   "source": [
    "nbbest = MultinomialNB(**nb_best_params)\n",
    "train_and_report(nbbest, 5, X_bi, y_bi)"
   ]
  },
  {
   "cell_type": "markdown",
   "metadata": {},
   "source": [
    "Again, still not that great for accuracy but worth trying just because of how quick it is.  It should also be noted that naive Bayesian methods really shine in situations where you have small datasets and limited features--which isn't this dataset, but it still has it's place."
   ]
  },
  {
   "cell_type": "markdown",
   "metadata": {},
   "source": [
    "<a id=\"svm\"></a>\n",
    "## Support Vector Machines\n",
    "\n",
    "The next class of \"old school\" models is support vector machines--although SVMs aren't nearly as \"old school\" as logistic regression or Naive-Bayes.  SVMs aren't nearly as fast to train as the them, either, especially on datasets bigger than 5 - 10k rows of data.  We will only test a linear, quadratic, and radial basis function kernels here although there are many more kernels possible.  If I had a super computer or a ton of time on my hands I would include a large list of kernels with the other parameters in grid search optimization--but I don't, so I won't.  As with previous models, multiple will be built and the best will be selected for tuning.  Due to the extremely long training times for SVMs of this type, we will use a subset of the entire training data to select the best model and then train that final best model on the entire dataset.\n",
    "\n",
    "Due to the time it takes to train each SVC, below the data is sampled to a quarter size.  This quartered dataset will be used to train and tune the SVCs."
   ]
  },
  {
   "cell_type": "code",
   "execution_count": 8,
   "metadata": {},
   "outputs": [
    {
     "name": "stdout",
     "output_type": "stream",
     "text": [
      "There are 12069 points of data in this subset.\n"
     ]
    }
   ],
   "source": [
    "from sklearn.model_selection import train_test_split\n",
    "\n",
    "_X, X_sub, _y, y_sub = train_test_split(X_bi, y_bi, stratify=y_bi, test_size=0.25, random_state=rando_seed)\n",
    "print(f\"There are {len(X_sub)} points of data in this subset.\")"
   ]
  },
  {
   "cell_type": "markdown",
   "metadata": {},
   "source": [
    "### Linear SVC\n",
    "\n",
    "LinearSVC is the best of the SVC options in scikit-learn because it scales way better than SVC itself.  LinearSVC can scale up with more features and more rows of data linearly while the generic SVC model scales on the order of O(n<sup>2</sup>).  Unfortunately, not all data is simply linearly separable and sometimes you need to branch out into other kernels to get solid results."
   ]
  },
  {
   "cell_type": "code",
   "execution_count": 21,
   "metadata": {},
   "outputs": [
    {
     "name": "stdout",
     "output_type": "stream",
     "text": [
      "\u001b[1mLinear SVC with balanced weights: \u001b[0;0m\n",
      "\u001b[1m\n",
      "\n",
      "Training crossvalidation metrics average: \u001b[0;0m\n",
      "               AVG       STD\n",
      "Accuracy  0.596156  0.023583\n",
      "F1        0.572613  0.134976\n",
      "\u001b[1m\n",
      "\n",
      "Testing crossvalidation metrics average: \u001b[0;0m\n",
      "               AVG       STD\n",
      "Accuracy  0.589527  0.025372\n",
      "F1        0.564797  0.139260\n",
      "\u001b[1m\n",
      "\n",
      "Linear SVC with normal weights: \u001b[0;0m\n",
      "\u001b[1m\n",
      "\n",
      "Training crossvalidation metrics average: \u001b[0;0m\n",
      "               AVG       STD\n",
      "Accuracy  0.654954  0.127781\n",
      "F1        0.605514  0.265109\n",
      "\u001b[1m\n",
      "\n",
      "Testing crossvalidation metrics average: \u001b[0;0m\n",
      "               AVG       STD\n",
      "Accuracy  0.651647  0.122213\n",
      "F1        0.604970  0.256887\n"
     ]
    }
   ],
   "source": [
    "from sklearn.svm import SVC, LinearSVC\n",
    "\n",
    "bold_print('Linear SVC with balanced weights: ')\n",
    "clf = LinearSVC(class_weight='balanced', random_state=rando_seed)\n",
    "train_metrics, test_metrics = strat_kfold(clf, X_sub, y_sub, num_folds=3, train_metrics=True, random_state=rando_seed)\n",
    "train_test_eval(train_metrics, test_metrics)\n",
    "bold_print('\\n\\nLinear SVC with normal weights: ')\n",
    "clf = LinearSVC(random_state=rando_seed)\n",
    "train_metrics, test_metrics = strat_kfold(clf, X_sub, y_sub, num_folds=3, train_metrics=True, random_state=rando_seed)\n",
    "train_test_eval(train_metrics, test_metrics)"
   ]
  },
  {
   "cell_type": "markdown",
   "metadata": {},
   "source": [
    "### Quadratic Kernel"
   ]
  },
  {
   "cell_type": "code",
   "execution_count": 22,
   "metadata": {},
   "outputs": [
    {
     "name": "stdout",
     "output_type": "stream",
     "text": [
      "\u001b[1mBinomial SVC with balanced weights: \u001b[0;0m\n",
      "\u001b[1m\n",
      "\n",
      "Training crossvalidation metrics average: \u001b[0;0m\n",
      "               AVG       STD\n",
      "Accuracy  0.924310  0.000786\n",
      "F1        0.935897  0.000640\n",
      "\u001b[1m\n",
      "\n",
      "Testing crossvalidation metrics average: \u001b[0;0m\n",
      "               AVG       STD\n",
      "Accuracy  0.791532  0.000550\n",
      "F1        0.823511  0.000826\n",
      "\u001b[1m\n",
      "\n",
      "Binomial SVC with normal weights: \u001b[0;0m\n",
      "\u001b[1m\n",
      "\n",
      "Training crossvalidation metrics average: \u001b[0;0m\n",
      "               AVG       STD\n",
      "Accuracy  0.926009  0.001169\n",
      "F1        0.939236  0.000911\n",
      "\u001b[1m\n",
      "\n",
      "Testing crossvalidation metrics average: \u001b[0;0m\n",
      "               AVG       STD\n",
      "Accuracy  0.794681  0.002645\n",
      "F1        0.832044  0.002294\n"
     ]
    }
   ],
   "source": [
    "bold_print(\"Binomial SVC with balanced weights: \")\n",
    "clf = SVC(kernel='poly', degree=2, class_weight='balanced', random_state=rando_seed)\n",
    "train_metrics, test_metrics = strat_kfold(clf, X_sub, y_sub, num_folds=3, train_metrics=True, \n",
    "                                            random_state=rando_seed)\n",
    "train_test_eval(train_metrics, test_metrics)\n",
    "bold_print('\\n\\nBinomial SVC with normal weights: ')\n",
    "clf = SVC(kernel='poly', degree=2, random_state=rando_seed)\n",
    "train_metrics, test_metrics = strat_kfold(clf, X_sub, y_sub, num_folds=3, train_metrics=True, \n",
    "                                            random_state=rando_seed)\n",
    "train_test_eval(train_metrics, test_metrics)"
   ]
  },
  {
   "cell_type": "markdown",
   "metadata": {},
   "source": [
    "### Radial Basis Function Kernel"
   ]
  },
  {
   "cell_type": "code",
   "execution_count": 23,
   "metadata": {},
   "outputs": [
    {
     "name": "stdout",
     "output_type": "stream",
     "text": [
      "\u001b[1mRBF with balanced weights: \u001b[0;0m\n",
      "\u001b[1m\n",
      "\n",
      "Training crossvalidation metrics average: \u001b[0;0m\n",
      "               AVG       STD\n",
      "Accuracy  0.939473  0.001227\n",
      "F1        0.948957  0.001038\n",
      "\u001b[1m\n",
      "\n",
      "Testing crossvalidation metrics average: \u001b[0;0m\n",
      "               AVG       STD\n",
      "Accuracy  0.804540  0.003086\n",
      "F1        0.835208  0.002558\n",
      "\u001b[1m\n",
      "\n",
      "RBF with normal weights: \u001b[0;0m\n",
      "\u001b[1m\n",
      "\n",
      "Training crossvalidation metrics average: \u001b[0;0m\n",
      "               AVG       STD\n",
      "Accuracy  0.939183  0.001367\n",
      "F1        0.950079  0.001089\n",
      "\u001b[1m\n",
      "\n",
      "Testing crossvalidation metrics average: \u001b[0;0m\n",
      "               AVG       STD\n",
      "Accuracy  0.809263  0.002794\n",
      "F1        0.845892  0.002438\n"
     ]
    }
   ],
   "source": [
    "bold_print('RBF with balanced weights: ')\n",
    "clf = SVC(kernel='rbf', class_weight='balanced', random_state=rando_seed)\n",
    "train_metrics, test_metrics = strat_kfold(clf, X_sub, y_sub, num_folds=3, train_metrics=True, random_state=rando_seed)\n",
    "train_test_eval(train_metrics, test_metrics)\n",
    "bold_print('\\n\\nRBF with normal weights: ')\n",
    "clf = SVC(kernel='rbf', random_state=rando_seed)\n",
    "train_metrics, test_metrics = strat_kfold(clf, X_sub, y_sub, num_folds=3, train_metrics=True, random_state=rando_seed)\n",
    "train_test_eval(train_metrics, test_metrics)"
   ]
  },
  {
   "cell_type": "markdown",
   "metadata": {},
   "source": [
    "Well, it appears that there is no consistent weighting scheme that is best between kernels, so both will have to be used to tune.  RBF and binomial SVCs also greatly outperformed linear so linear will be excluded from the tuning to decrease tuning time."
   ]
  },
  {
   "cell_type": "markdown",
   "metadata": {},
   "source": [
    "### Tuning the SVM\n",
    "\n",
    "Looking above, it's clear that our SVM with the radial basis function kernel performs the best (followed very closely by the quadratic SVC).  It is a fair amount overfit but still outperforms every other model so far on the crossvalidation score so further tuning will be done on just these two kernels to decrease tuning time."
   ]
  },
  {
   "cell_type": "code",
   "execution_count": 13,
   "metadata": {},
   "outputs": [
    {
     "name": "stdout",
     "output_type": "stream",
     "text": [
      "\u001b[1mBest hyperparameters found: \u001b[0;0m\n",
      "{'C': 10, 'class_weight': None, 'gamma': 0.001, 'kernel': 'rbf'}\n",
      "\n",
      "It took 1505.5 seconds to complete search.\n"
     ]
    }
   ],
   "source": [
    "from sklearn.model_selection import GridSearchCV\n",
    "from sklearn.svm import SVC\n",
    "import random\n",
    "\n",
    "def rand_list(lower, upper, sample_size, random_seed=None):\n",
    "    rand = []\n",
    "    random.seed(random_seed)\n",
    "    for i in range(sample_size):\n",
    "        rand.append(random.uniform(lower, upper))\n",
    "    return rand\n",
    "        \n",
    "num_iterations = 60\n",
    "hyperparams = {'kernel': ['poly', 'rbf'], \n",
    "              'C':[0.001, 0.01, 0.1, 1, 10],\n",
    "              'gamma': [0.0001, 0.001, 0.01, 0.1, 1],\n",
    "              'class_weight': [None, 'balanced']}\n",
    "\n",
    "t0 = time.time()\n",
    "rando_search = GridSearchCV(SVC(random_state=rando_seed, degree=2), hyperparams, cv=3, n_jobs=-1)\n",
    "rando_search.fit(X_sub, y_sub)\n",
    "bold_print(\"Best hyperparameters found: \")\n",
    "svc_best_params = rando_search.best_params_\n",
    "print(svc_best_params)\n",
    "t1 = time.time()\n",
    "print(f\"\\nIt took {round(t1-t0,2)} seconds to complete search.\")"
   ]
  },
  {
   "cell_type": "markdown",
   "metadata": {},
   "source": [
    "![Long Wait!](https://media.giphy.com/media/tXL4FHPSnVJ0A/giphy.gif)\n",
    "\n",
    "The final SVC will only be trained on a half the data instead of all data due to training time.  These SVCs take for - ev - er to train and for the simple model exploration happening here it's not worth it to me to spend $4 worth of cloud compute just to get a full accuracy measure that could be approximated in much less."
   ]
  },
  {
   "cell_type": "code",
   "execution_count": null,
   "metadata": {},
   "outputs": [
    {
     "name": "stdout",
     "output_type": "stream",
     "text": [
      "\n",
      "Average crossval scores for best model: \n",
      "               AVG       STD\n",
      "Accuracy  0.808750  0.005240\n",
      "F1        0.843972  0.004543\n",
      "\n",
      "Time to train model on each fold was 102.96 seconds average.\n"
     ]
    }
   ],
   "source": [
    "X_half, _, y_half, _ = train_test_split(X_bi, y_bi, test_size=0.5, stratify=y_bi)\n",
    "\n",
    "from sklearn.svm import SVC\n",
    "svm_clf = SVC(**svc_best_params, random_state=rando_seed)\n",
    "train_and_report(svm_clf, 3, X_half, y_half)"
   ]
  },
  {
   "cell_type": "markdown",
   "metadata": {},
   "source": [
    "BEST PERFORMER SO FAR (barely but on half the data)! Unfortunately, the bane of my existence in terms of training time.  The differential between train and test averages indicates that there is a decent amount of overfitting occuring with this model but, fortunately, even on the test data it does better than everything so far (which is what really counts).</br>\n",
    "![YES!](https://media.giphy.com/media/UbD6c9YyD0SPu/giphy.gif)"
   ]
  },
  {
   "cell_type": "markdown",
   "metadata": {},
   "source": [
    "<a id='knn'></a>\n",
    "## K-Nearest Neighbors \n",
    "\n",
    "K-nearest neighbors is a (relatively) quick and easy classification method that basically compares the answers between tests and decides if it is a male or female based on which other testers the answers are closest to.  There are multiple metrics available but using L1 (\"Manhattan metric\") is chosen off the bat as it allows for comparing differences of answers *within* questions.  Previous experience using a KNN classifier is not that great, however, and I don't expect this to work as well as other methods."
   ]
  },
  {
   "cell_type": "code",
   "execution_count": 13,
   "metadata": {},
   "outputs": [
    {
     "name": "stdout",
     "output_type": "stream",
     "text": [
      "\u001b[1m\n",
      "\n",
      "Training crossvalidation metrics average: \u001b[0;0m\n",
      "               AVG       STD\n",
      "Accuracy  0.799983  0.001359\n",
      "F1        0.840333  0.001258\n",
      "\u001b[1m\n",
      "\n",
      "Testing crossvalidation metrics average: \u001b[0;0m\n",
      "               AVG       STD\n",
      "Accuracy  0.687549  0.013238\n",
      "F1        0.752128  0.008254\n"
     ]
    }
   ],
   "source": [
    "from sklearn.neighbors import KNeighborsClassifier\n",
    "\n",
    "clf = KNeighborsClassifier(n_neighbors=5, p=2, n_jobs=-1)\n",
    "train_metrics, test_metrics = strat_kfold(clf, X_sub, y_sub, train_metrics=True, random_state=rando_seed)\n",
    "train_test_eval(train_metrics, test_metrics)"
   ]
  },
  {
   "cell_type": "markdown",
   "metadata": {},
   "source": [
    "### Tuning K-Nearest Neighbors"
   ]
  },
  {
   "cell_type": "code",
   "execution_count": 14,
   "metadata": {},
   "outputs": [
    {
     "name": "stdout",
     "output_type": "stream",
     "text": [
      "\u001b[1mBest hyperparameters found: \u001b[0;0m\n",
      "{'n_neighbors': 16, 'p': 2, 'weights': 'uniform'}\n"
     ]
    }
   ],
   "source": [
    "from sklearn.model_selection import GridSearchCV\n",
    "n_neigh = [2, 4, 8, 16]\n",
    "metric = [1, 2]\n",
    "c_weights = ['uniform', 'distance']\n",
    "param_grid = {'n_neighbors': n_neigh, 'p': metric, 'weights': c_weights}\n",
    "grid = GridSearchCV(KNeighborsClassifier(algorithm='auto'), param_grid, cv=3, n_jobs=-1)\n",
    "grid.fit(X_sub, y_sub)\n",
    "knn_best_params = grid.best_params_\n",
    "bold_print(\"Best hyperparameters found: \")\n",
    "print(knn_best_params)"
   ]
  },
  {
   "cell_type": "markdown",
   "metadata": {},
   "source": [
    "Again, half the dataset is used to train the KNN classifier because it takes too long for a simple exploration of models on this data."
   ]
  },
  {
   "cell_type": "code",
   "execution_count": 15,
   "metadata": {},
   "outputs": [
    {
     "name": "stdout",
     "output_type": "stream",
     "text": [
      "\n",
      "Average crossval scores for best model: \n",
      "               AVG       STD\n",
      "Accuracy  0.733371  0.009402\n",
      "F1        0.787101  0.009031\n",
      "\n",
      "Time to train model on each fold was 153.78 seconds average.\n"
     ]
    }
   ],
   "source": [
    "knn_clf = KNeighborsClassifier(algorithm='auto', **knn_best_params, n_jobs=-1)\n",
    "train_and_report(knn_clf, 5, X_bi, y_bi)"
   ]
  },
  {
   "cell_type": "markdown",
   "metadata": {},
   "source": [
    "Sooooo, yeah.  Not great.  I'd rather trade the slight increase in accuracy for the massive increase in speed and go with a Naive-Bayes model instead."
   ]
  },
  {
   "cell_type": "markdown",
   "metadata": {},
   "source": [
    "<a id=\"trees\"></a>\n",
    "## Ensemble Decision Trees\n",
    "\n",
    "Next up are my favorite class of traditional models:  ensemble decision trees.  Random forests and gradient boosted trees will both be looked at and I expect them to outperform all previous models on our large, tabular dataset.  Training time unfortunately sucks for these (though *usually* not as bad as SVMs) as well, so I predict some boredom in the coming minutes."
   ]
  },
  {
   "cell_type": "markdown",
   "metadata": {},
   "source": [
    "### Random Forest\n",
    "\n",
    "Random forest classifiers are an excellent choice for data such as this.  The main danger that will be run in to is the tendency to overfit--the accuracy on the training data will likely be close to 1.0 but not nearly that high on the test set without significant tuning to the model.  We will start off with a simple random forest of 100 estimators."
   ]
  },
  {
   "cell_type": "code",
   "execution_count": 16,
   "metadata": {},
   "outputs": [
    {
     "data": {
      "application/vnd.jupyter.widget-view+json": {
       "model_id": "a0a144a9dee84c1d94b0ee9d6aa86d7f",
       "version_major": 2,
       "version_minor": 0
      },
      "text/plain": [
       "HBox(children=(IntProgress(value=1, bar_style='info', max=1), HTML(value='')))"
      ]
     },
     "metadata": {},
     "output_type": "display_data"
    },
    {
     "name": "stdout",
     "output_type": "stream",
     "text": [
      "\n",
      "\u001b[1m\n",
      "\n",
      "Training crossvalidation metrics average: \u001b[0;0m\n",
      "          AVG  STD\n",
      "Accuracy  1.0  0.0\n",
      "F1        1.0  0.0\n",
      "\u001b[1m\n",
      "\n",
      "Testing crossvalidation metrics average: \u001b[0;0m\n",
      "               AVG       STD\n",
      "Accuracy  0.769325  0.006762\n",
      "F1        0.821980  0.004901\n"
     ]
    }
   ],
   "source": [
    "from sklearn.ensemble import RandomForestClassifier\n",
    "\n",
    "clf = RandomForestClassifier(n_estimators=200, n_jobs=-1)\n",
    "train_metrics, test_metrics = strat_kfold(clf, X_sub, y_sub, num_folds=5, train_metrics=True, \n",
    "                                            verbose=True, random_state=rando_seed)\n",
    "train_test_eval(train_metrics, test_metrics)"
   ]
  },
  {
   "cell_type": "markdown",
   "metadata": {},
   "source": [
    "### Gradient Boosted\n",
    "\n",
    "I expect the gradient boosted decision tree to train faster than the random forest classifier but the predictive power is usually hit-or-miss compared to random forests without significant tuning."
   ]
  },
  {
   "cell_type": "code",
   "execution_count": 15,
   "metadata": {},
   "outputs": [
    {
     "data": {
      "application/vnd.jupyter.widget-view+json": {
       "model_id": "b067162fc1d740fca49788d7643837ed",
       "version_major": 2,
       "version_minor": 0
      },
      "text/plain": [
       "HBox(children=(IntProgress(value=1, bar_style='info', max=1), HTML(value='')))"
      ]
     },
     "metadata": {},
     "output_type": "display_data"
    },
    {
     "name": "stdout",
     "output_type": "stream",
     "text": [
      "\n",
      "\u001b[1m\n",
      "\n",
      "Training crossvalidation metrics average: \u001b[0;0m\n",
      "               AVG       STD\n",
      "Accuracy  0.983470  0.001187\n",
      "F1        0.986157  0.001008\n",
      "\u001b[1m\n",
      "\n",
      "Testing crossvalidation metrics average: \u001b[0;0m\n",
      "               AVG       STD\n",
      "Accuracy  0.798576  0.007299\n",
      "F1        0.831600  0.005846\n"
     ]
    }
   ],
   "source": [
    "from lightgbm import LGBMClassifier\n",
    "\n",
    "clf = LGBMClassifier(n_estimators=200, class_weight='balanced', random_state=rando_seed, n_jobs=-1)\n",
    "train_metrics, test_metrics = strat_kfold(clf, X_sub, y_sub, num_folds=5, train_metrics=True, \n",
    "                                            verbose=True, random_state=rando_seed)\n",
    "train_test_eval(train_metrics, test_metrics)"
   ]
  },
  {
   "cell_type": "markdown",
   "metadata": {},
   "source": [
    "### Tuning the Gradient Boosted Model\n",
    "\n",
    "Ensemble decision trees have a higher training time than simple methods like logistic regression as well as many more hyperparameters--each over a large range.  This makes performing a grid search over hyperparameters extremely time and resource intensive.  Luckily, James Bergstra and Yoshua Bengio have shown that random searches can match or beat the performance of a grid search in a large number of cases<sup>[[1]](#berg_beng)</sup>.  The random search method is what we'll use to tune our categorical gradient boosted model below.  The beauty with random search is that testing only 60 random hyperparameter combinations is enough to get within 5% of the model's max accuracy with 95% confidence.\n",
    "<br/>\n",
    "<br/>\n",
    "<a id=\"berg_beng\"></a>\n",
    "    [1] Bergstra, J. & Bengio, Y. Random Search for Hyper-Parameter Optimization. *Journal of Machine Learning Research* 13: 281-305, 2012.  Retrieved from &nbsp;&nbsp;&nbsp;&nbsp;&nbsp;&nbsp;<http://jmlr.csail.mit.edu/papers/volume13/bergstra12a/bergstra12a.pdf>"
   ]
  },
  {
   "cell_type": "code",
   "execution_count": 16,
   "metadata": {},
   "outputs": [
    {
     "name": "stdout",
     "output_type": "stream",
     "text": [
      "\u001b[1mBest hyperparameters found: \u001b[0;0m\n",
      "{'num_leaves': 125, 'n_estimators': 879, 'max_depth': 10, 'max_bin': 6, 'loss_function': 'Logloss', 'learning_rate': 0.23373481573160126}\n",
      "\n",
      "It took 201.71 seconds to complete search.\n"
     ]
    }
   ],
   "source": [
    "from sklearn.model_selection import RandomizedSearchCV\n",
    "import random\n",
    "\n",
    "def rand_list(lower, upper, sample_size, random_seed=None):\n",
    "    rand = []\n",
    "    random.seed(random_seed)\n",
    "    for i in range(sample_size):\n",
    "        rand.append(random.uniform(lower, upper))\n",
    "    return rand\n",
    "\n",
    "num_iterations = 60\n",
    "hyperparams = {'max_depth':list(range(1, 16)), \n",
    "              'loss_function': ['Logloss', 'CrossEntropy'], \n",
    "              'num_leaves':list(range(2, 150)),\n",
    "              'learning_rate': rand_list(.001, 0.3, num_iterations, random_seed=rando_seed+42),\n",
    "              'n_estimators': list(range(20, 1200)),\n",
    "              'max_bin': [2,3,4,5,6]}\n",
    "\n",
    "t0 = time.time()\n",
    "rando_search = RandomizedSearchCV(LGBMClassifier(random_state=rando_seed), hyperparams, \n",
    "                                  random_state=rando_seed+72, n_iter=num_iterations, cv=3, n_jobs=-1)\n",
    "rando_search.fit(X_sub, y_sub)\n",
    "bold_print(\"Best hyperparameters found: \")\n",
    "grad_tree_best_params = rando_search.best_params_\n",
    "print(grad_tree_best_params)\n",
    "t1 = time.time()\n",
    "print(f\"\\nIt took {round(t1-t0,2)} seconds to complete search.\")"
   ]
  },
  {
   "cell_type": "code",
   "execution_count": 17,
   "metadata": {},
   "outputs": [
    {
     "name": "stdout",
     "output_type": "stream",
     "text": [
      "\n",
      "Average crossval scores for best model: \n",
      "               AVG       STD\n",
      "Accuracy  0.816171  0.006028\n",
      "F1        0.851206  0.005193\n",
      "\n",
      "Time to train model on each fold was 12.46 seconds average.\n"
     ]
    }
   ],
   "source": [
    "bestgrad = LGBMClassifier(silent=True, random_state=rando_seed, **grad_tree_best_params)\n",
    "train_and_report(bestgrad, 5, X_bi, y_bi)"
   ]
  },
  {
   "cell_type": "markdown",
   "metadata": {},
   "source": [
    "### Categorical Gradient Boosted"
   ]
  },
  {
   "cell_type": "code",
   "execution_count": 21,
   "metadata": {},
   "outputs": [
    {
     "data": {
      "application/vnd.jupyter.widget-view+json": {
       "model_id": "9c110686904244b08b99c47fd8f43132",
       "version_major": 2,
       "version_minor": 0
      },
      "text/plain": [
       "HBox(children=(IntProgress(value=1, bar_style='info', max=1), HTML(value='')))"
      ]
     },
     "metadata": {},
     "output_type": "display_data"
    },
    {
     "name": "stdout",
     "output_type": "stream",
     "text": [
      "\n",
      "\u001b[1m\n",
      "\n",
      "Training crossvalidation metrics average: \u001b[0;0m\n",
      "               AVG       STD\n",
      "Accuracy  0.913850  0.002058\n",
      "F1        0.929759  0.001604\n",
      "\u001b[1m\n",
      "\n",
      "Testing crossvalidation metrics average: \u001b[0;0m\n",
      "               AVG       STD\n",
      "Accuracy  0.803878  0.003125\n",
      "F1        0.841411  0.002201\n"
     ]
    }
   ],
   "source": [
    "from catboost import CatBoostClassifier\n",
    "\n",
    "X_bi_cat = X_bi.astype('category')\n",
    "X_sub_cat = X_sub.astype('category')\n",
    "\n",
    "clf = CatBoostClassifier(n_estimators=200, silent=True, random_state=rando_seed)\n",
    "kwargs = {'silent': True}\n",
    "train_metrics, test_metrics = strat_kfold(clf, X_sub_cat, y_sub, num_folds=5, train_metrics=True, \n",
    "                                            verbose=True, fit_kwargs=kwargs, random_state=rando_seed)\n",
    "train_test_eval(train_metrics, test_metrics)"
   ]
  },
  {
   "cell_type": "markdown",
   "metadata": {},
   "source": [
    "Hhmmm, interesting.  The random forest was waaaay overfit (unsurprisingly, random forests take a decent amount of tuning to keep from overfitting) while the gradient boosted tree was not-quite-as overfit (hehe, just kidding--it was definitely overfit too).  Counter to my initial intuition, the gradient boosted tree did better on the test set right out of the box.  The real shocker is that the categorical gradient boosted tree did better than both in terms of accuracy and was much less overfit (but still somewhat overfit).\n",
    "\n",
    "Below, we \"shrink\" the categorical variables by reducing gradation in answers for each feature.  Instead of \"disagree\" and \"slightly disagree\" will be binned together, \"neither agree nor disagree\" and \"no answer\" will stay their own category, and \"agree\" or \"slightly agree\" will be binned together.  CatBoostClassifier will then be applied to these new categories"
   ]
  },
  {
   "cell_type": "code",
   "execution_count": 22,
   "metadata": {},
   "outputs": [
    {
     "data": {
      "text/html": [
       "<div>\n",
       "<style scoped>\n",
       "    .dataframe tbody tr th:only-of-type {\n",
       "        vertical-align: middle;\n",
       "    }\n",
       "\n",
       "    .dataframe tbody tr th {\n",
       "        vertical-align: top;\n",
       "    }\n",
       "\n",
       "    .dataframe thead th {\n",
       "        text-align: right;\n",
       "    }\n",
       "</style>\n",
       "<table border=\"1\" class=\"dataframe\">\n",
       "  <thead>\n",
       "    <tr style=\"text-align: right;\">\n",
       "      <th></th>\n",
       "      <th>A1</th>\n",
       "      <th>A2</th>\n",
       "      <th>A3</th>\n",
       "      <th>A4</th>\n",
       "      <th>A5</th>\n",
       "      <th>A6</th>\n",
       "      <th>A7</th>\n",
       "      <th>A8</th>\n",
       "      <th>A9</th>\n",
       "      <th>A10</th>\n",
       "      <th>...</th>\n",
       "      <th>P1</th>\n",
       "      <th>P2</th>\n",
       "      <th>P3</th>\n",
       "      <th>P4</th>\n",
       "      <th>P5</th>\n",
       "      <th>P6</th>\n",
       "      <th>P7</th>\n",
       "      <th>P8</th>\n",
       "      <th>P9</th>\n",
       "      <th>P10</th>\n",
       "    </tr>\n",
       "  </thead>\n",
       "  <tbody>\n",
       "    <tr>\n",
       "      <th>42884</th>\n",
       "      <td>3</td>\n",
       "      <td>3</td>\n",
       "      <td>3</td>\n",
       "      <td>3</td>\n",
       "      <td>3</td>\n",
       "      <td>3</td>\n",
       "      <td>2</td>\n",
       "      <td>2</td>\n",
       "      <td>1</td>\n",
       "      <td>2</td>\n",
       "      <td>...</td>\n",
       "      <td>3</td>\n",
       "      <td>1</td>\n",
       "      <td>3</td>\n",
       "      <td>3</td>\n",
       "      <td>1</td>\n",
       "      <td>3</td>\n",
       "      <td>3</td>\n",
       "      <td>2</td>\n",
       "      <td>2</td>\n",
       "      <td>1</td>\n",
       "    </tr>\n",
       "    <tr>\n",
       "      <th>36053</th>\n",
       "      <td>1</td>\n",
       "      <td>2</td>\n",
       "      <td>2</td>\n",
       "      <td>2</td>\n",
       "      <td>3</td>\n",
       "      <td>2</td>\n",
       "      <td>2</td>\n",
       "      <td>2</td>\n",
       "      <td>2</td>\n",
       "      <td>2</td>\n",
       "      <td>...</td>\n",
       "      <td>3</td>\n",
       "      <td>2</td>\n",
       "      <td>3</td>\n",
       "      <td>3</td>\n",
       "      <td>2</td>\n",
       "      <td>2</td>\n",
       "      <td>2</td>\n",
       "      <td>1</td>\n",
       "      <td>2</td>\n",
       "      <td>2</td>\n",
       "    </tr>\n",
       "    <tr>\n",
       "      <th>37399</th>\n",
       "      <td>3</td>\n",
       "      <td>3</td>\n",
       "      <td>3</td>\n",
       "      <td>3</td>\n",
       "      <td>3</td>\n",
       "      <td>3</td>\n",
       "      <td>3</td>\n",
       "      <td>1</td>\n",
       "      <td>1</td>\n",
       "      <td>1</td>\n",
       "      <td>...</td>\n",
       "      <td>1</td>\n",
       "      <td>1</td>\n",
       "      <td>3</td>\n",
       "      <td>3</td>\n",
       "      <td>1</td>\n",
       "      <td>1</td>\n",
       "      <td>3</td>\n",
       "      <td>3</td>\n",
       "      <td>3</td>\n",
       "      <td>3</td>\n",
       "    </tr>\n",
       "    <tr>\n",
       "      <th>25550</th>\n",
       "      <td>3</td>\n",
       "      <td>3</td>\n",
       "      <td>3</td>\n",
       "      <td>3</td>\n",
       "      <td>3</td>\n",
       "      <td>3</td>\n",
       "      <td>3</td>\n",
       "      <td>3</td>\n",
       "      <td>1</td>\n",
       "      <td>1</td>\n",
       "      <td>...</td>\n",
       "      <td>3</td>\n",
       "      <td>2</td>\n",
       "      <td>1</td>\n",
       "      <td>3</td>\n",
       "      <td>3</td>\n",
       "      <td>1</td>\n",
       "      <td>1</td>\n",
       "      <td>1</td>\n",
       "      <td>1</td>\n",
       "      <td>1</td>\n",
       "    </tr>\n",
       "    <tr>\n",
       "      <th>38483</th>\n",
       "      <td>3</td>\n",
       "      <td>3</td>\n",
       "      <td>3</td>\n",
       "      <td>3</td>\n",
       "      <td>3</td>\n",
       "      <td>2</td>\n",
       "      <td>3</td>\n",
       "      <td>3</td>\n",
       "      <td>1</td>\n",
       "      <td>1</td>\n",
       "      <td>...</td>\n",
       "      <td>3</td>\n",
       "      <td>3</td>\n",
       "      <td>2</td>\n",
       "      <td>2</td>\n",
       "      <td>1</td>\n",
       "      <td>1</td>\n",
       "      <td>2</td>\n",
       "      <td>1</td>\n",
       "      <td>3</td>\n",
       "      <td>2</td>\n",
       "    </tr>\n",
       "  </tbody>\n",
       "</table>\n",
       "<p>5 rows × 163 columns</p>\n",
       "</div>"
      ],
      "text/plain": [
       "      A1 A2 A3 A4 A5 A6 A7 A8 A9 A10 ... P1 P2 P3 P4 P5 P6 P7 P8 P9 P10\n",
       "42884  3  3  3  3  3  3  2  2  1   2 ...  3  1  3  3  1  3  3  2  2   1\n",
       "36053  1  2  2  2  3  2  2  2  2   2 ...  3  2  3  3  2  2  2  1  2   2\n",
       "37399  3  3  3  3  3  3  3  1  1   1 ...  1  1  3  3  1  1  3  3  3   3\n",
       "25550  3  3  3  3  3  3  3  3  1   1 ...  3  2  1  3  3  1  1  1  1   1\n",
       "38483  3  3  3  3  3  2  3  3  1   1 ...  3  3  2  2  1  1  2  1  3   2\n",
       "\n",
       "[5 rows x 163 columns]"
      ]
     },
     "execution_count": 22,
     "metadata": {},
     "output_type": "execute_result"
    }
   ],
   "source": [
    "def shrink(num):\n",
    "    if (num==1) or (num==2):\n",
    "        return 1\n",
    "    elif (num==3):\n",
    "        return 2\n",
    "    elif (num>3):\n",
    "        return 3\n",
    "    else:\n",
    "        return 0\n",
    "X_sub_shrink = X_sub.copy()\n",
    "X_sub_shrink = X_sub_shrink.applymap(shrink)\n",
    "X_sub_shrink = X_sub_shrink.astype('category')\n",
    "X_sub_shrink.head()"
   ]
  },
  {
   "cell_type": "code",
   "execution_count": 23,
   "metadata": {},
   "outputs": [
    {
     "data": {
      "application/vnd.jupyter.widget-view+json": {
       "model_id": "2cddabe19cf440cb87919c012717394b",
       "version_major": 2,
       "version_minor": 0
      },
      "text/plain": [
       "HBox(children=(IntProgress(value=1, bar_style='info', max=1), HTML(value='')))"
      ]
     },
     "metadata": {},
     "output_type": "display_data"
    },
    {
     "name": "stdout",
     "output_type": "stream",
     "text": [
      "\n",
      "\u001b[1m\n",
      "\n",
      "Training crossvalidation metrics average: \u001b[0;0m\n",
      "               AVG       STD\n",
      "Accuracy  0.902332  0.001781\n",
      "F1        0.920595  0.001439\n",
      "\u001b[1m\n",
      "\n",
      "Testing crossvalidation metrics average: \u001b[0;0m\n",
      "               AVG       STD\n",
      "Accuracy  0.786645  0.003725\n",
      "F1        0.828332  0.002225\n"
     ]
    }
   ],
   "source": [
    "clf = CatBoostClassifier(n_estimators=200, silent=True, random_state=rando_seed)\n",
    "train_metrics, test_metrics = strat_kfold(clf, X_sub_shrink, y_sub, num_folds=5, train_metrics=True, \n",
    "                                            verbose=True, random_state=rando_seed)\n",
    "train_test_eval(train_metrics, test_metrics)"
   ]
  },
  {
   "cell_type": "markdown",
   "metadata": {},
   "source": [
    "**Super cool**.  Removing all gradation in each sentiment results in a net loss of only 1.5% crossvalidation accuracy!  What this means is that just the sentiment itself--and not gradation--carry almost all of the information in the dataset.  This is important to note for model tuning, as removing sentiment gradation prior to tuning hyperparameters (for example, adding depth and n_estimators--each of which tend to cause more overfitting as they increase) may help us increase crossvalidation accuracy."
   ]
  },
  {
   "cell_type": "markdown",
   "metadata": {},
   "source": [
    "### Tuning the Categorical Gradient Boosted Model\n",
    "\n",
    "As with SVCs above, ensemble tree methods come with a lot of hyperparameters and higher training time so all will be tuned with random search."
   ]
  },
  {
   "cell_type": "code",
   "execution_count": 25,
   "metadata": {
    "scrolled": true
   },
   "outputs": [
    {
     "name": "stdout",
     "output_type": "stream",
     "text": [
      "\u001b[1mBest hyperparameters found: \u001b[0;0m\n",
      "{'n_estimators': 858, 'loss_function': 'Logloss', 'learning_rate': 0.12046437963028535, 'l2_leaf_reg': 61, 'depth': 4}\n",
      "\n",
      "It took 24501.67 seconds to complete search.\n"
     ]
    }
   ],
   "source": [
    "num_iterations = 60\n",
    "hyperparams = {'depth':list(range(1, 16)), \n",
    "              'loss_function': ['Logloss', 'CrossEntropy'], \n",
    "              'l2_leaf_reg':list(range(2, 64)),\n",
    "              'learning_rate': rand_list(.001, 0.3, num_iterations, random_seed=rando_seed+42),\n",
    "              'n_estimators': list(range(20, 1200))}\n",
    "\n",
    "t0 = time.time()\n",
    "rando_search = RandomizedSearchCV(CatBoostClassifier(silent=True, random_state=rando_seed), hyperparams, \n",
    "                                  random_state=rando_seed+72, n_iter=num_iterations, cv=3, n_jobs=-1)\n",
    "rando_search.fit(X_sub_cat, y_sub)\n",
    "bold_print(\"Best hyperparameters found: \")\n",
    "cat_tree_best_params = rando_search.best_params_\n",
    "print(cat_tree_best_params)\n",
    "t1 = time.time()\n",
    "print(f\"\\nIt took {round(t1-t0,2)} seconds to complete search.\")"
   ]
  },
  {
   "cell_type": "code",
   "execution_count": 26,
   "metadata": {},
   "outputs": [
    {
     "name": "stdout",
     "output_type": "stream",
     "text": [
      "\n",
      "Average crossval scores for best model: \n",
      "               AVG       STD\n",
      "Accuracy  0.816233  0.005761\n",
      "F1        0.850406  0.005274\n",
      "\n",
      "Time to train model on each fold was 27.95 seconds average.\n"
     ]
    }
   ],
   "source": [
    "bestcat = CatBoostClassifier(silent=True, random_state=rando_seed, **cat_tree_best_params)\n",
    "train_and_report(bestcat, 5, X_bi, y_bi)"
   ]
  },
  {
   "cell_type": "markdown",
   "metadata": {},
   "source": [
    "Eh, overall accuracy not that great but about on par with the other models.  F1 score is definitely on the higher end of models (which is good), but overall accuracy is definitely not worth the extra tuning time."
   ]
  },
  {
   "cell_type": "markdown",
   "metadata": {},
   "source": [
    "<a id=\"conclusion\"></a>\n",
    "## Conclusions\n",
    "\n",
    "From this big trip around the zoo of models, three classes of models really stand out in terms of performance against the rest: logarithmic regression, support vector classifiers, and ensemble decision trees (specifically both gradient boosted ones).  Logarithmic regression and SVCs ended up in the 80 - 81% accuracy range and both the categorical and normal gradient boosted trees ended up in the 81 - 82% accuracy range.\n",
    "\n",
    "Of these, logarithmic regression was by far the fastest to train, followed by normal gradient boosted decision trees.  SVCs and categorical gradient boosted trees both took way too long to train--so long, in fact, that the final tuned SVC was only trained on half the data so as to not waste a ton of money on simple model exploration.  This is a good indication that logarithmic regression and gradient boosted trees are solid avenues of approach for building a more predictive model--along with additional data processing techniques like actually dealing with missing values in the personality questions and better encoding of the variables.  Additionally, with the categorical gradient boosted model there was minimal accuracy loss for significantly compacting the answer categories for each question--which may make it a reasonable approach to take when building a final model in order to combat overfitting.\n",
    "<br/>\n",
    "<br/>\n",
    "![Goodbye!](https://media0.giphy.com/media/YC2ohKyxNlXq0/giphy.gif)"
   ]
  }
 ],
 "metadata": {
  "kernelspec": {
   "display_name": "Python 3",
   "language": "python",
   "name": "python3"
  },
  "language_info": {
   "codemirror_mode": {
    "name": "ipython",
    "version": 3
   },
   "file_extension": ".py",
   "mimetype": "text/x-python",
   "name": "python",
   "nbconvert_exporter": "python",
   "pygments_lexer": "ipython3",
   "version": "3.7.3"
  }
 },
 "nbformat": 4,
 "nbformat_minor": 2
}
